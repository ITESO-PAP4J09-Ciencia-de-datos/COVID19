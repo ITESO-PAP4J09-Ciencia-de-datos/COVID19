{
 "cells": [
  {
   "cell_type": "code",
   "execution_count": 1,
   "id": "e6201a02",
   "metadata": {},
   "outputs": [],
   "source": [
    "import pandas as pd"
   ]
  },
  {
   "cell_type": "code",
   "execution_count": 53,
   "id": "6784eab7",
   "metadata": {},
   "outputs": [],
   "source": [
    "#data2020 = pd.read_csv(\"Data2020CovidMex1.csv\") \n",
    "data2020 = pd.read_csv(\"Data2020CovidMexupdate1.csv\") "
   ]
  },
  {
   "cell_type": "code",
   "execution_count": 54,
   "id": "ec45c98f",
   "metadata": {},
   "outputs": [
    {
     "data": {
      "text/plain": [
       "['FECHA_ACTUALIZACION',\n",
       " 'ID_REGISTRO',\n",
       " 'SECTOR',\n",
       " 'ENTIDAD_UM',\n",
       " 'SEXO',\n",
       " 'ENTIDAD_RES',\n",
       " 'MUNICIPIO_RES',\n",
       " 'TIPO_PACIENTE',\n",
       " 'FECHA_INGRESO',\n",
       " 'FECHA_SINTOMAS',\n",
       " 'FECHA_DEF',\n",
       " 'INTUBADO',\n",
       " 'NEUMONIA',\n",
       " 'EDAD',\n",
       " 'NACIONALIDAD',\n",
       " 'EMBARAZO',\n",
       " 'HABLA_LENGUA_INDIG',\n",
       " 'DIABETES',\n",
       " 'EPOC',\n",
       " 'ASMA',\n",
       " 'INMUSUPR',\n",
       " 'HIPERTENSION',\n",
       " 'OTRA_COM',\n",
       " 'CARDIOVASCULAR',\n",
       " 'OBESIDAD',\n",
       " 'RENAL_CRONICA',\n",
       " 'TABAQUISMO',\n",
       " 'OTRO_CASO',\n",
       " 'RESULTADO_ANTIGENO',\n",
       " 'UCI']"
      ]
     },
     "execution_count": 54,
     "metadata": {},
     "output_type": "execute_result"
    }
   ],
   "source": [
    "list(data2020)"
   ]
  },
  {
   "cell_type": "code",
   "execution_count": 55,
   "id": "f1e9a845",
   "metadata": {},
   "outputs": [
    {
     "name": "stderr",
     "output_type": "stream",
     "text": [
      "<ipython-input-55-82abd20876c5>:1: FutureWarning: In a future version of pandas all arguments of DataFrame.drop except for the argument 'labels' will be keyword-only\n",
      "  data2020=data2020.drop(['FECHA_ACTUALIZACION','SECTOR',  'ENTIDAD_UM' , 'SEXO',  'ENTIDAD_RES',  'MUNICIPIO_RES',  'TIPO_PACIENTE','INTUBADO', 'NEUMONIA', 'EDAD', 'NACIONALIDAD',\n"
     ]
    }
   ],
   "source": [
    "data2020=data2020.drop(['FECHA_ACTUALIZACION','SECTOR',  'ENTIDAD_UM' , 'SEXO',  'ENTIDAD_RES',  'MUNICIPIO_RES',  'TIPO_PACIENTE','INTUBADO', 'NEUMONIA', 'EDAD', 'NACIONALIDAD',\n",
    " 'EMBARAZO', 'HABLA_LENGUA_INDIG', 'DIABETES','EPOC','ASMA','INMUSUPR','HIPERTENSION','OTRA_COM','CARDIOVASCULAR', 'OBESIDAD', 'RENAL_CRONICA', 'TABAQUISMO', 'OTRO_CASO',\n",
    " 'RESULTADO_ANTIGENO', 'UCI' ], 1)"
   ]
  },
  {
   "cell_type": "code",
   "execution_count": 56,
   "id": "8a031192",
   "metadata": {},
   "outputs": [
    {
     "data": {
      "text/html": [
       "<div>\n",
       "<style scoped>\n",
       "    .dataframe tbody tr th:only-of-type {\n",
       "        vertical-align: middle;\n",
       "    }\n",
       "\n",
       "    .dataframe tbody tr th {\n",
       "        vertical-align: top;\n",
       "    }\n",
       "\n",
       "    .dataframe thead th {\n",
       "        text-align: right;\n",
       "    }\n",
       "</style>\n",
       "<table border=\"1\" class=\"dataframe\">\n",
       "  <thead>\n",
       "    <tr style=\"text-align: right;\">\n",
       "      <th></th>\n",
       "      <th>ID_REGISTRO</th>\n",
       "      <th>FECHA_INGRESO</th>\n",
       "      <th>FECHA_SINTOMAS</th>\n",
       "      <th>FECHA_DEF</th>\n",
       "    </tr>\n",
       "  </thead>\n",
       "  <tbody>\n",
       "    <tr>\n",
       "      <th>0</th>\n",
       "      <td>z482b8</td>\n",
       "      <td>2020-10-16</td>\n",
       "      <td>2020-10-16</td>\n",
       "      <td>9999-99-99</td>\n",
       "    </tr>\n",
       "    <tr>\n",
       "      <th>1</th>\n",
       "      <td>z49a69</td>\n",
       "      <td>2020-07-20</td>\n",
       "      <td>2020-07-17</td>\n",
       "      <td>2020-07-21</td>\n",
       "    </tr>\n",
       "    <tr>\n",
       "      <th>2</th>\n",
       "      <td>z33a15</td>\n",
       "      <td>2020-08-19</td>\n",
       "      <td>2020-08-17</td>\n",
       "      <td>9999-99-99</td>\n",
       "    </tr>\n",
       "    <tr>\n",
       "      <th>3</th>\n",
       "      <td>zzcda2</td>\n",
       "      <td>2020-03-03</td>\n",
       "      <td>2020-03-01</td>\n",
       "      <td>9999-99-99</td>\n",
       "    </tr>\n",
       "    <tr>\n",
       "      <th>4</th>\n",
       "      <td>z4f06b</td>\n",
       "      <td>2020-08-31</td>\n",
       "      <td>2020-08-26</td>\n",
       "      <td>9999-99-99</td>\n",
       "    </tr>\n",
       "  </tbody>\n",
       "</table>\n",
       "</div>"
      ],
      "text/plain": [
       "  ID_REGISTRO FECHA_INGRESO FECHA_SINTOMAS   FECHA_DEF\n",
       "0      z482b8    2020-10-16     2020-10-16  9999-99-99\n",
       "1      z49a69    2020-07-20     2020-07-17  2020-07-21\n",
       "2      z33a15    2020-08-19     2020-08-17  9999-99-99\n",
       "3      zzcda2    2020-03-03     2020-03-01  9999-99-99\n",
       "4      z4f06b    2020-08-31     2020-08-26  9999-99-99"
      ]
     },
     "execution_count": 56,
     "metadata": {},
     "output_type": "execute_result"
    }
   ],
   "source": [
    "data2020.head()"
   ]
  },
  {
   "cell_type": "code",
   "execution_count": 57,
   "id": "7a055ed7",
   "metadata": {},
   "outputs": [],
   "source": [
    "data2020 = data2020[data2020[\"FECHA_DEF\"].str.contains(\"2021\")==False]"
   ]
  },
  {
   "cell_type": "code",
   "execution_count": 58,
   "id": "bbcbd5aa",
   "metadata": {},
   "outputs": [
    {
     "data": {
      "text/plain": [
       "(15052945, 4)"
      ]
     },
     "execution_count": 58,
     "metadata": {},
     "output_type": "execute_result"
    }
   ],
   "source": [
    "data2020.shape"
   ]
  },
  {
   "cell_type": "code",
   "execution_count": 7,
   "id": "83341071",
   "metadata": {},
   "outputs": [],
   "source": [
    "#data2020[\"ID_REGISTRO\"] = data2020[\"ID_REGISTRO\"].astype('str') 15129496\n"
   ]
  },
  {
   "cell_type": "code",
   "execution_count": 59,
   "id": "a1d7ea0f",
   "metadata": {},
   "outputs": [
    {
     "data": {
      "text/plain": [
       "ID_REGISTRO       object\n",
       "FECHA_INGRESO     object\n",
       "FECHA_SINTOMAS    object\n",
       "FECHA_DEF         object\n",
       "dtype: object"
      ]
     },
     "execution_count": 59,
     "metadata": {},
     "output_type": "execute_result"
    }
   ],
   "source": [
    "data2020.dtypes"
   ]
  },
  {
   "cell_type": "code",
   "execution_count": 60,
   "id": "360f015a",
   "metadata": {},
   "outputs": [],
   "source": [
    "#a = False \n",
    "#if data2020['ID_REGISTRO'][0] == data2020['ID_REGISTRO'][1]:\n",
    "#    a = True\n",
    "#print(a)"
   ]
  },
  {
   "cell_type": "code",
   "execution_count": 61,
   "id": "34f39510",
   "metadata": {},
   "outputs": [],
   "source": [
    "#data2020.duplicated()"
   ]
  },
  {
   "cell_type": "code",
   "execution_count": 62,
   "id": "3d0d7d4f",
   "metadata": {},
   "outputs": [],
   "source": [
    "#data2020.duplicated(subset=['FECHA_INGRESO'])"
   ]
  },
  {
   "cell_type": "code",
   "execution_count": 63,
   "id": "71241430",
   "metadata": {},
   "outputs": [],
   "source": [
    "#print(data2020['ID_REGISTRO'][0])"
   ]
  },
  {
   "cell_type": "code",
   "execution_count": 64,
   "id": "ac91a178",
   "metadata": {},
   "outputs": [],
   "source": [
    "#boolean = data2020['ID_REGISTRO'].duplicated().count() "
   ]
  },
  {
   "cell_type": "code",
   "execution_count": 65,
   "id": "5f2180b3",
   "metadata": {},
   "outputs": [],
   "source": [
    "#boolean"
   ]
  },
  {
   "cell_type": "code",
   "execution_count": 66,
   "id": "121321ca",
   "metadata": {},
   "outputs": [],
   "source": [
    "#data2021 = pd.read_csv(\"Data2021CovidMex.csv\") \n",
    "data2021 = pd.read_csv(\"Data2021CovidMexupdate1.csv\") "
   ]
  },
  {
   "cell_type": "code",
   "execution_count": 67,
   "id": "724510f4",
   "metadata": {},
   "outputs": [
    {
     "name": "stderr",
     "output_type": "stream",
     "text": [
      "<ipython-input-67-fd4a45fe1803>:1: FutureWarning: In a future version of pandas all arguments of DataFrame.drop except for the argument 'labels' will be keyword-only\n",
      "  data2021=data2021.drop(['FECHA_ACTUALIZACION','SECTOR',  'ENTIDAD_UM' , 'SEXO',  'ENTIDAD_RES',  'MUNICIPIO_RES',  'TIPO_PACIENTE','INTUBADO', 'NEUMONIA', 'EDAD', 'NACIONALIDAD',\n"
     ]
    }
   ],
   "source": [
    "data2021=data2021.drop(['FECHA_ACTUALIZACION','SECTOR',  'ENTIDAD_UM' , 'SEXO',  'ENTIDAD_RES',  'MUNICIPIO_RES',  'TIPO_PACIENTE','INTUBADO', 'NEUMONIA', 'EDAD', 'NACIONALIDAD',\n",
    " 'EMBARAZO', 'HABLA_LENGUA_INDIG', 'DIABETES','EPOC','ASMA','INMUSUPR','HIPERTENSION','OTRA_COM','CARDIOVASCULAR', 'OBESIDAD', 'RENAL_CRONICA', 'TABAQUISMO', 'OTRO_CASO',\n",
    " 'RESULTADO_ANTIGENO', 'UCI' ], 1)"
   ]
  },
  {
   "cell_type": "code",
   "execution_count": 68,
   "id": "d6390dbe",
   "metadata": {},
   "outputs": [],
   "source": [
    "data2021 = data2021[data2021[\"FECHA_DEF\"].str.contains(\"2020\")==False]"
   ]
  },
  {
   "cell_type": "code",
   "execution_count": 69,
   "id": "331b9eb3",
   "metadata": {},
   "outputs": [
    {
     "data": {
      "text/html": [
       "<div>\n",
       "<style scoped>\n",
       "    .dataframe tbody tr th:only-of-type {\n",
       "        vertical-align: middle;\n",
       "    }\n",
       "\n",
       "    .dataframe tbody tr th {\n",
       "        vertical-align: top;\n",
       "    }\n",
       "\n",
       "    .dataframe thead th {\n",
       "        text-align: right;\n",
       "    }\n",
       "</style>\n",
       "<table border=\"1\" class=\"dataframe\">\n",
       "  <thead>\n",
       "    <tr style=\"text-align: right;\">\n",
       "      <th></th>\n",
       "      <th>ID_REGISTRO</th>\n",
       "      <th>FECHA_INGRESO</th>\n",
       "      <th>FECHA_SINTOMAS</th>\n",
       "      <th>FECHA_DEF</th>\n",
       "    </tr>\n",
       "  </thead>\n",
       "  <tbody>\n",
       "    <tr>\n",
       "      <th>0</th>\n",
       "      <td>1333b7</td>\n",
       "      <td>2021-01-21</td>\n",
       "      <td>2021-01-17</td>\n",
       "      <td>9999-99-99</td>\n",
       "    </tr>\n",
       "    <tr>\n",
       "      <th>1</th>\n",
       "      <td>048d29</td>\n",
       "      <td>2021-01-05</td>\n",
       "      <td>2021-01-01</td>\n",
       "      <td>9999-99-99</td>\n",
       "    </tr>\n",
       "    <tr>\n",
       "      <th>2</th>\n",
       "      <td>09bf6a</td>\n",
       "      <td>2021-01-09</td>\n",
       "      <td>2021-01-08</td>\n",
       "      <td>9999-99-99</td>\n",
       "    </tr>\n",
       "    <tr>\n",
       "      <th>3</th>\n",
       "      <td>083415</td>\n",
       "      <td>2021-01-16</td>\n",
       "      <td>2021-01-16</td>\n",
       "      <td>2021-01-21</td>\n",
       "    </tr>\n",
       "    <tr>\n",
       "      <th>4</th>\n",
       "      <td>13928e</td>\n",
       "      <td>2021-01-29</td>\n",
       "      <td>2021-01-25</td>\n",
       "      <td>9999-99-99</td>\n",
       "    </tr>\n",
       "  </tbody>\n",
       "</table>\n",
       "</div>"
      ],
      "text/plain": [
       "  ID_REGISTRO FECHA_INGRESO FECHA_SINTOMAS   FECHA_DEF\n",
       "0      1333b7    2021-01-21     2021-01-17  9999-99-99\n",
       "1      048d29    2021-01-05     2021-01-01  9999-99-99\n",
       "2      09bf6a    2021-01-09     2021-01-08  9999-99-99\n",
       "3      083415    2021-01-16     2021-01-16  2021-01-21\n",
       "4      13928e    2021-01-29     2021-01-25  9999-99-99"
      ]
     },
     "execution_count": 69,
     "metadata": {},
     "output_type": "execute_result"
    }
   ],
   "source": [
    "data2021.head()"
   ]
  },
  {
   "cell_type": "code",
   "execution_count": 70,
   "id": "37609f31",
   "metadata": {},
   "outputs": [
    {
     "data": {
      "text/plain": [
       "(11936390, 4)"
      ]
     },
     "execution_count": 70,
     "metadata": {},
     "output_type": "execute_result"
    }
   ],
   "source": [
    "data2021.shape #11936470"
   ]
  },
  {
   "cell_type": "code",
   "execution_count": 71,
   "id": "ce6de044",
   "metadata": {},
   "outputs": [
    {
     "data": {
      "text/plain": [
       "ID_REGISTRO       object\n",
       "FECHA_INGRESO     object\n",
       "FECHA_SINTOMAS    object\n",
       "FECHA_DEF         object\n",
       "dtype: object"
      ]
     },
     "execution_count": 71,
     "metadata": {},
     "output_type": "execute_result"
    }
   ],
   "source": [
    "data2021.dtypes"
   ]
  },
  {
   "cell_type": "code",
   "execution_count": null,
   "id": "0fa8071d",
   "metadata": {},
   "outputs": [],
   "source": []
  },
  {
   "cell_type": "code",
   "execution_count": 108,
   "id": "27d33823",
   "metadata": {},
   "outputs": [],
   "source": [
    "#data2020['FECHA_INGRESO'] = pd.to_datatime(data2020.FECHA_INGRESO) #,'FECHA_SINTOMAS','FECHA_DEF'"
   ]
  },
  {
   "cell_type": "code",
   "execution_count": 72,
   "id": "eb6248d0",
   "metadata": {},
   "outputs": [
    {
     "data": {
      "text/plain": [
       "9999-99-99    13612831\n",
       "2020-12-29        9217\n",
       "2020-12-28        9154\n",
       "2020-12-30        8939\n",
       "2020-12-27        8719\n",
       "                ...   \n",
       "2020-03-13           7\n",
       "2020-03-03           7\n",
       "2020-02-07           4\n",
       "2020-02-24           3\n",
       "2020-01-24           1\n",
       "Name: FECHA_DEF, Length: 294, dtype: int64"
      ]
     },
     "execution_count": 72,
     "metadata": {},
     "output_type": "execute_result"
    }
   ],
   "source": [
    "data2020[\"FECHA_DEF\"].value_counts()"
   ]
  },
  {
   "cell_type": "code",
   "execution_count": 73,
   "id": "6cb4496b",
   "metadata": {},
   "outputs": [],
   "source": [
    "data2020 = data2020[data2020.FECHA_DEF != \"9999-99-99\"]"
   ]
  },
  {
   "cell_type": "code",
   "execution_count": 74,
   "id": "31fb4f19",
   "metadata": {},
   "outputs": [
    {
     "data": {
      "text/plain": [
       "2020-12-29    9217\n",
       "2020-12-28    9154\n",
       "2020-12-30    8939\n",
       "2020-12-27    8719\n",
       "2020-12-21    8511\n",
       "              ... \n",
       "2020-03-13       7\n",
       "2020-03-03       7\n",
       "2020-02-07       4\n",
       "2020-02-24       3\n",
       "2020-01-24       1\n",
       "Name: FECHA_DEF, Length: 293, dtype: int64"
      ]
     },
     "execution_count": 74,
     "metadata": {},
     "output_type": "execute_result"
    }
   ],
   "source": [
    "data2020[\"FECHA_DEF\"].value_counts()"
   ]
  },
  {
   "cell_type": "code",
   "execution_count": 75,
   "id": "d51d2bc7",
   "metadata": {},
   "outputs": [],
   "source": [
    "df = pd.DataFrame(data=data2020[\"FECHA_DEF\"].value_counts())"
   ]
  },
  {
   "cell_type": "code",
   "execution_count": 76,
   "id": "8e1394fb",
   "metadata": {},
   "outputs": [
    {
     "data": {
      "text/html": [
       "<div>\n",
       "<style scoped>\n",
       "    .dataframe tbody tr th:only-of-type {\n",
       "        vertical-align: middle;\n",
       "    }\n",
       "\n",
       "    .dataframe tbody tr th {\n",
       "        vertical-align: top;\n",
       "    }\n",
       "\n",
       "    .dataframe thead th {\n",
       "        text-align: right;\n",
       "    }\n",
       "</style>\n",
       "<table border=\"1\" class=\"dataframe\">\n",
       "  <thead>\n",
       "    <tr style=\"text-align: right;\">\n",
       "      <th></th>\n",
       "      <th>FECHA_DEF</th>\n",
       "    </tr>\n",
       "  </thead>\n",
       "  <tbody>\n",
       "    <tr>\n",
       "      <th>2020-12-29</th>\n",
       "      <td>9217</td>\n",
       "    </tr>\n",
       "    <tr>\n",
       "      <th>2020-12-28</th>\n",
       "      <td>9154</td>\n",
       "    </tr>\n",
       "    <tr>\n",
       "      <th>2020-12-30</th>\n",
       "      <td>8939</td>\n",
       "    </tr>\n",
       "    <tr>\n",
       "      <th>2020-12-27</th>\n",
       "      <td>8719</td>\n",
       "    </tr>\n",
       "    <tr>\n",
       "      <th>2020-12-21</th>\n",
       "      <td>8511</td>\n",
       "    </tr>\n",
       "  </tbody>\n",
       "</table>\n",
       "</div>"
      ],
      "text/plain": [
       "            FECHA_DEF\n",
       "2020-12-29       9217\n",
       "2020-12-28       9154\n",
       "2020-12-30       8939\n",
       "2020-12-27       8719\n",
       "2020-12-21       8511"
      ]
     },
     "execution_count": 76,
     "metadata": {},
     "output_type": "execute_result"
    }
   ],
   "source": [
    "df.head(5)"
   ]
  },
  {
   "cell_type": "code",
   "execution_count": 77,
   "id": "7855399a",
   "metadata": {},
   "outputs": [],
   "source": [
    "df['FECHA'] = df.index"
   ]
  },
  {
   "cell_type": "code",
   "execution_count": 78,
   "id": "cfeb9562",
   "metadata": {},
   "outputs": [
    {
     "data": {
      "text/html": [
       "<div>\n",
       "<style scoped>\n",
       "    .dataframe tbody tr th:only-of-type {\n",
       "        vertical-align: middle;\n",
       "    }\n",
       "\n",
       "    .dataframe tbody tr th {\n",
       "        vertical-align: top;\n",
       "    }\n",
       "\n",
       "    .dataframe thead th {\n",
       "        text-align: right;\n",
       "    }\n",
       "</style>\n",
       "<table border=\"1\" class=\"dataframe\">\n",
       "  <thead>\n",
       "    <tr style=\"text-align: right;\">\n",
       "      <th></th>\n",
       "      <th>FECHA_DEF</th>\n",
       "      <th>FECHA</th>\n",
       "    </tr>\n",
       "  </thead>\n",
       "  <tbody>\n",
       "    <tr>\n",
       "      <th>2020-12-29</th>\n",
       "      <td>9217</td>\n",
       "      <td>2020-12-29</td>\n",
       "    </tr>\n",
       "    <tr>\n",
       "      <th>2020-12-28</th>\n",
       "      <td>9154</td>\n",
       "      <td>2020-12-28</td>\n",
       "    </tr>\n",
       "    <tr>\n",
       "      <th>2020-12-30</th>\n",
       "      <td>8939</td>\n",
       "      <td>2020-12-30</td>\n",
       "    </tr>\n",
       "    <tr>\n",
       "      <th>2020-12-27</th>\n",
       "      <td>8719</td>\n",
       "      <td>2020-12-27</td>\n",
       "    </tr>\n",
       "    <tr>\n",
       "      <th>2020-12-21</th>\n",
       "      <td>8511</td>\n",
       "      <td>2020-12-21</td>\n",
       "    </tr>\n",
       "  </tbody>\n",
       "</table>\n",
       "</div>"
      ],
      "text/plain": [
       "            FECHA_DEF       FECHA\n",
       "2020-12-29       9217  2020-12-29\n",
       "2020-12-28       9154  2020-12-28\n",
       "2020-12-30       8939  2020-12-30\n",
       "2020-12-27       8719  2020-12-27\n",
       "2020-12-21       8511  2020-12-21"
      ]
     },
     "execution_count": 78,
     "metadata": {},
     "output_type": "execute_result"
    }
   ],
   "source": [
    "df.head(5)"
   ]
  },
  {
   "cell_type": "code",
   "execution_count": 79,
   "id": "0030da59",
   "metadata": {},
   "outputs": [],
   "source": [
    "df.reset_index(level=0, inplace=True)"
   ]
  },
  {
   "cell_type": "code",
   "execution_count": 80,
   "id": "d765c0ea",
   "metadata": {},
   "outputs": [
    {
     "data": {
      "text/html": [
       "<div>\n",
       "<style scoped>\n",
       "    .dataframe tbody tr th:only-of-type {\n",
       "        vertical-align: middle;\n",
       "    }\n",
       "\n",
       "    .dataframe tbody tr th {\n",
       "        vertical-align: top;\n",
       "    }\n",
       "\n",
       "    .dataframe thead th {\n",
       "        text-align: right;\n",
       "    }\n",
       "</style>\n",
       "<table border=\"1\" class=\"dataframe\">\n",
       "  <thead>\n",
       "    <tr style=\"text-align: right;\">\n",
       "      <th></th>\n",
       "      <th>index</th>\n",
       "      <th>FECHA_DEF</th>\n",
       "      <th>FECHA</th>\n",
       "    </tr>\n",
       "  </thead>\n",
       "  <tbody>\n",
       "    <tr>\n",
       "      <th>0</th>\n",
       "      <td>2020-12-29</td>\n",
       "      <td>9217</td>\n",
       "      <td>2020-12-29</td>\n",
       "    </tr>\n",
       "    <tr>\n",
       "      <th>1</th>\n",
       "      <td>2020-12-28</td>\n",
       "      <td>9154</td>\n",
       "      <td>2020-12-28</td>\n",
       "    </tr>\n",
       "    <tr>\n",
       "      <th>2</th>\n",
       "      <td>2020-12-30</td>\n",
       "      <td>8939</td>\n",
       "      <td>2020-12-30</td>\n",
       "    </tr>\n",
       "    <tr>\n",
       "      <th>3</th>\n",
       "      <td>2020-12-27</td>\n",
       "      <td>8719</td>\n",
       "      <td>2020-12-27</td>\n",
       "    </tr>\n",
       "    <tr>\n",
       "      <th>4</th>\n",
       "      <td>2020-12-21</td>\n",
       "      <td>8511</td>\n",
       "      <td>2020-12-21</td>\n",
       "    </tr>\n",
       "  </tbody>\n",
       "</table>\n",
       "</div>"
      ],
      "text/plain": [
       "        index  FECHA_DEF       FECHA\n",
       "0  2020-12-29       9217  2020-12-29\n",
       "1  2020-12-28       9154  2020-12-28\n",
       "2  2020-12-30       8939  2020-12-30\n",
       "3  2020-12-27       8719  2020-12-27\n",
       "4  2020-12-21       8511  2020-12-21"
      ]
     },
     "execution_count": 80,
     "metadata": {},
     "output_type": "execute_result"
    }
   ],
   "source": [
    "df.head(5)"
   ]
  },
  {
   "cell_type": "code",
   "execution_count": 81,
   "id": "6d4ff07f",
   "metadata": {},
   "outputs": [
    {
     "name": "stderr",
     "output_type": "stream",
     "text": [
      "<ipython-input-81-de4faf79ee94>:1: FutureWarning: In a future version of pandas all arguments of DataFrame.drop except for the argument 'labels' will be keyword-only\n",
      "  df=df.drop(['index' ], 1)\n"
     ]
    }
   ],
   "source": [
    "df=df.drop(['index' ], 1)"
   ]
  },
  {
   "cell_type": "code",
   "execution_count": 82,
   "id": "2732db23",
   "metadata": {},
   "outputs": [
    {
     "data": {
      "text/html": [
       "<div>\n",
       "<style scoped>\n",
       "    .dataframe tbody tr th:only-of-type {\n",
       "        vertical-align: middle;\n",
       "    }\n",
       "\n",
       "    .dataframe tbody tr th {\n",
       "        vertical-align: top;\n",
       "    }\n",
       "\n",
       "    .dataframe thead th {\n",
       "        text-align: right;\n",
       "    }\n",
       "</style>\n",
       "<table border=\"1\" class=\"dataframe\">\n",
       "  <thead>\n",
       "    <tr style=\"text-align: right;\">\n",
       "      <th></th>\n",
       "      <th>FECHA_DEF</th>\n",
       "      <th>FECHA</th>\n",
       "    </tr>\n",
       "  </thead>\n",
       "  <tbody>\n",
       "    <tr>\n",
       "      <th>0</th>\n",
       "      <td>9217</td>\n",
       "      <td>2020-12-29</td>\n",
       "    </tr>\n",
       "    <tr>\n",
       "      <th>1</th>\n",
       "      <td>9154</td>\n",
       "      <td>2020-12-28</td>\n",
       "    </tr>\n",
       "    <tr>\n",
       "      <th>2</th>\n",
       "      <td>8939</td>\n",
       "      <td>2020-12-30</td>\n",
       "    </tr>\n",
       "    <tr>\n",
       "      <th>3</th>\n",
       "      <td>8719</td>\n",
       "      <td>2020-12-27</td>\n",
       "    </tr>\n",
       "    <tr>\n",
       "      <th>4</th>\n",
       "      <td>8511</td>\n",
       "      <td>2020-12-21</td>\n",
       "    </tr>\n",
       "  </tbody>\n",
       "</table>\n",
       "</div>"
      ],
      "text/plain": [
       "   FECHA_DEF       FECHA\n",
       "0       9217  2020-12-29\n",
       "1       9154  2020-12-28\n",
       "2       8939  2020-12-30\n",
       "3       8719  2020-12-27\n",
       "4       8511  2020-12-21"
      ]
     },
     "execution_count": 82,
     "metadata": {},
     "output_type": "execute_result"
    }
   ],
   "source": [
    "df.head(5)"
   ]
  },
  {
   "cell_type": "code",
   "execution_count": 83,
   "id": "d6e596e6",
   "metadata": {},
   "outputs": [
    {
     "data": {
      "text/plain": [
       "9999-99-99    11168309\n",
       "2021-01-20       12875\n",
       "2021-01-25       12803\n",
       "2021-01-24       12636\n",
       "2021-01-26       12557\n",
       "                ...   \n",
       "2021-06-10         397\n",
       "2021-06-12         342\n",
       "2021-06-03         314\n",
       "2021-09-30         148\n",
       "2021-10-01           2\n",
       "Name: FECHA_DEF, Length: 275, dtype: int64"
      ]
     },
     "execution_count": 83,
     "metadata": {},
     "output_type": "execute_result"
    }
   ],
   "source": [
    "data2021[\"FECHA_DEF\"].value_counts()"
   ]
  },
  {
   "cell_type": "code",
   "execution_count": 84,
   "id": "0e201bbb",
   "metadata": {},
   "outputs": [],
   "source": [
    "df21 = data2021[data2021.FECHA_DEF != \"9999-99-99\"]"
   ]
  },
  {
   "cell_type": "code",
   "execution_count": 85,
   "id": "91885260",
   "metadata": {},
   "outputs": [],
   "source": [
    "df21 = pd.DataFrame(data=df21[\"FECHA_DEF\"].value_counts())"
   ]
  },
  {
   "cell_type": "code",
   "execution_count": 86,
   "id": "2777686b",
   "metadata": {},
   "outputs": [
    {
     "data": {
      "text/plain": [
       "<bound method NDFrame.head of             FECHA_DEF\n",
       "2021-01-20      12875\n",
       "2021-01-25      12803\n",
       "2021-01-24      12636\n",
       "2021-01-26      12557\n",
       "2021-01-19      12372\n",
       "...               ...\n",
       "2021-06-10        397\n",
       "2021-06-12        342\n",
       "2021-06-03        314\n",
       "2021-09-30        148\n",
       "2021-10-01          2\n",
       "\n",
       "[274 rows x 1 columns]>"
      ]
     },
     "execution_count": 86,
     "metadata": {},
     "output_type": "execute_result"
    }
   ],
   "source": [
    "df21.head"
   ]
  },
  {
   "cell_type": "code",
   "execution_count": 56,
   "id": "9a860ad7",
   "metadata": {},
   "outputs": [],
   "source": []
  },
  {
   "cell_type": "code",
   "execution_count": 87,
   "id": "41ad0874",
   "metadata": {},
   "outputs": [
    {
     "data": {
      "text/plain": [
       "<bound method NDFrame.head of             FECHA_DEF\n",
       "2021-01-20      12875\n",
       "2021-01-25      12803\n",
       "2021-01-24      12636\n",
       "2021-01-26      12557\n",
       "2021-01-19      12372\n",
       "...               ...\n",
       "2021-06-10        397\n",
       "2021-06-12        342\n",
       "2021-06-03        314\n",
       "2021-09-30        148\n",
       "2021-10-01          2\n",
       "\n",
       "[274 rows x 1 columns]>"
      ]
     },
     "execution_count": 87,
     "metadata": {},
     "output_type": "execute_result"
    }
   ],
   "source": [
    "df21.head"
   ]
  },
  {
   "cell_type": "code",
   "execution_count": 88,
   "id": "37c67896",
   "metadata": {},
   "outputs": [],
   "source": [
    "df21['FECHA'] = df21.index"
   ]
  },
  {
   "cell_type": "code",
   "execution_count": 89,
   "id": "a56ebb35",
   "metadata": {},
   "outputs": [],
   "source": [
    "df21.reset_index(level=0, inplace=True)"
   ]
  },
  {
   "cell_type": "code",
   "execution_count": 90,
   "id": "8894e0f6",
   "metadata": {},
   "outputs": [
    {
     "name": "stderr",
     "output_type": "stream",
     "text": [
      "<ipython-input-90-5b610b0ace55>:1: FutureWarning: In a future version of pandas all arguments of DataFrame.drop except for the argument 'labels' will be keyword-only\n",
      "  df21=df21.drop(['index' ], 1)\n"
     ]
    }
   ],
   "source": [
    "df21=df21.drop(['index' ], 1)"
   ]
  },
  {
   "cell_type": "code",
   "execution_count": 91,
   "id": "95ce935d",
   "metadata": {},
   "outputs": [
    {
     "data": {
      "text/html": [
       "<div>\n",
       "<style scoped>\n",
       "    .dataframe tbody tr th:only-of-type {\n",
       "        vertical-align: middle;\n",
       "    }\n",
       "\n",
       "    .dataframe tbody tr th {\n",
       "        vertical-align: top;\n",
       "    }\n",
       "\n",
       "    .dataframe thead th {\n",
       "        text-align: right;\n",
       "    }\n",
       "</style>\n",
       "<table border=\"1\" class=\"dataframe\">\n",
       "  <thead>\n",
       "    <tr style=\"text-align: right;\">\n",
       "      <th></th>\n",
       "      <th>FECHA_DEF</th>\n",
       "      <th>FECHA</th>\n",
       "    </tr>\n",
       "  </thead>\n",
       "  <tbody>\n",
       "    <tr>\n",
       "      <th>0</th>\n",
       "      <td>12875</td>\n",
       "      <td>2021-01-20</td>\n",
       "    </tr>\n",
       "    <tr>\n",
       "      <th>1</th>\n",
       "      <td>12803</td>\n",
       "      <td>2021-01-25</td>\n",
       "    </tr>\n",
       "    <tr>\n",
       "      <th>2</th>\n",
       "      <td>12636</td>\n",
       "      <td>2021-01-24</td>\n",
       "    </tr>\n",
       "    <tr>\n",
       "      <th>3</th>\n",
       "      <td>12557</td>\n",
       "      <td>2021-01-26</td>\n",
       "    </tr>\n",
       "    <tr>\n",
       "      <th>4</th>\n",
       "      <td>12372</td>\n",
       "      <td>2021-01-19</td>\n",
       "    </tr>\n",
       "  </tbody>\n",
       "</table>\n",
       "</div>"
      ],
      "text/plain": [
       "   FECHA_DEF       FECHA\n",
       "0      12875  2021-01-20\n",
       "1      12803  2021-01-25\n",
       "2      12636  2021-01-24\n",
       "3      12557  2021-01-26\n",
       "4      12372  2021-01-19"
      ]
     },
     "execution_count": 91,
     "metadata": {},
     "output_type": "execute_result"
    }
   ],
   "source": [
    "df21.head(5)"
   ]
  },
  {
   "cell_type": "code",
   "execution_count": 92,
   "id": "69a55a24",
   "metadata": {},
   "outputs": [],
   "source": [
    "df=df.rename(columns={\"FECHA_DEF\": \"CountDEF\", \"FECHA\": \"FECHA_DEF\"})\n",
    "df21=df21.rename(columns={\"FECHA_DEF\": \"CountDEF\", \"FECHA\": \"FECHA_DEF\"})"
   ]
  },
  {
   "cell_type": "code",
   "execution_count": null,
   "id": "bfd19ea9",
   "metadata": {},
   "outputs": [],
   "source": []
  },
  {
   "cell_type": "code",
   "execution_count": 93,
   "id": "119c98de",
   "metadata": {},
   "outputs": [
    {
     "data": {
      "text/html": [
       "<div>\n",
       "<style scoped>\n",
       "    .dataframe tbody tr th:only-of-type {\n",
       "        vertical-align: middle;\n",
       "    }\n",
       "\n",
       "    .dataframe tbody tr th {\n",
       "        vertical-align: top;\n",
       "    }\n",
       "\n",
       "    .dataframe thead th {\n",
       "        text-align: right;\n",
       "    }\n",
       "</style>\n",
       "<table border=\"1\" class=\"dataframe\">\n",
       "  <thead>\n",
       "    <tr style=\"text-align: right;\">\n",
       "      <th></th>\n",
       "      <th>CountDEF</th>\n",
       "      <th>FECHA_DEF</th>\n",
       "    </tr>\n",
       "  </thead>\n",
       "  <tbody>\n",
       "    <tr>\n",
       "      <th>0</th>\n",
       "      <td>9217</td>\n",
       "      <td>2020-12-29</td>\n",
       "    </tr>\n",
       "    <tr>\n",
       "      <th>1</th>\n",
       "      <td>9154</td>\n",
       "      <td>2020-12-28</td>\n",
       "    </tr>\n",
       "    <tr>\n",
       "      <th>2</th>\n",
       "      <td>8939</td>\n",
       "      <td>2020-12-30</td>\n",
       "    </tr>\n",
       "    <tr>\n",
       "      <th>3</th>\n",
       "      <td>8719</td>\n",
       "      <td>2020-12-27</td>\n",
       "    </tr>\n",
       "    <tr>\n",
       "      <th>4</th>\n",
       "      <td>8511</td>\n",
       "      <td>2020-12-21</td>\n",
       "    </tr>\n",
       "    <tr>\n",
       "      <th>...</th>\n",
       "      <td>...</td>\n",
       "      <td>...</td>\n",
       "    </tr>\n",
       "    <tr>\n",
       "      <th>288</th>\n",
       "      <td>7</td>\n",
       "      <td>2020-03-13</td>\n",
       "    </tr>\n",
       "    <tr>\n",
       "      <th>289</th>\n",
       "      <td>7</td>\n",
       "      <td>2020-03-03</td>\n",
       "    </tr>\n",
       "    <tr>\n",
       "      <th>290</th>\n",
       "      <td>4</td>\n",
       "      <td>2020-02-07</td>\n",
       "    </tr>\n",
       "    <tr>\n",
       "      <th>291</th>\n",
       "      <td>3</td>\n",
       "      <td>2020-02-24</td>\n",
       "    </tr>\n",
       "    <tr>\n",
       "      <th>292</th>\n",
       "      <td>1</td>\n",
       "      <td>2020-01-24</td>\n",
       "    </tr>\n",
       "  </tbody>\n",
       "</table>\n",
       "<p>293 rows × 2 columns</p>\n",
       "</div>"
      ],
      "text/plain": [
       "     CountDEF   FECHA_DEF\n",
       "0        9217  2020-12-29\n",
       "1        9154  2020-12-28\n",
       "2        8939  2020-12-30\n",
       "3        8719  2020-12-27\n",
       "4        8511  2020-12-21\n",
       "..        ...         ...\n",
       "288         7  2020-03-13\n",
       "289         7  2020-03-03\n",
       "290         4  2020-02-07\n",
       "291         3  2020-02-24\n",
       "292         1  2020-01-24\n",
       "\n",
       "[293 rows x 2 columns]"
      ]
     },
     "execution_count": 93,
     "metadata": {},
     "output_type": "execute_result"
    }
   ],
   "source": [
    "df"
   ]
  },
  {
   "cell_type": "code",
   "execution_count": 94,
   "id": "961a3892",
   "metadata": {},
   "outputs": [
    {
     "data": {
      "text/html": [
       "<div>\n",
       "<style scoped>\n",
       "    .dataframe tbody tr th:only-of-type {\n",
       "        vertical-align: middle;\n",
       "    }\n",
       "\n",
       "    .dataframe tbody tr th {\n",
       "        vertical-align: top;\n",
       "    }\n",
       "\n",
       "    .dataframe thead th {\n",
       "        text-align: right;\n",
       "    }\n",
       "</style>\n",
       "<table border=\"1\" class=\"dataframe\">\n",
       "  <thead>\n",
       "    <tr style=\"text-align: right;\">\n",
       "      <th></th>\n",
       "      <th>CountDEF</th>\n",
       "      <th>FECHA_DEF</th>\n",
       "    </tr>\n",
       "  </thead>\n",
       "  <tbody>\n",
       "    <tr>\n",
       "      <th>0</th>\n",
       "      <td>12875</td>\n",
       "      <td>2021-01-20</td>\n",
       "    </tr>\n",
       "    <tr>\n",
       "      <th>1</th>\n",
       "      <td>12803</td>\n",
       "      <td>2021-01-25</td>\n",
       "    </tr>\n",
       "    <tr>\n",
       "      <th>2</th>\n",
       "      <td>12636</td>\n",
       "      <td>2021-01-24</td>\n",
       "    </tr>\n",
       "    <tr>\n",
       "      <th>3</th>\n",
       "      <td>12557</td>\n",
       "      <td>2021-01-26</td>\n",
       "    </tr>\n",
       "    <tr>\n",
       "      <th>4</th>\n",
       "      <td>12372</td>\n",
       "      <td>2021-01-19</td>\n",
       "    </tr>\n",
       "    <tr>\n",
       "      <th>...</th>\n",
       "      <td>...</td>\n",
       "      <td>...</td>\n",
       "    </tr>\n",
       "    <tr>\n",
       "      <th>269</th>\n",
       "      <td>397</td>\n",
       "      <td>2021-06-10</td>\n",
       "    </tr>\n",
       "    <tr>\n",
       "      <th>270</th>\n",
       "      <td>342</td>\n",
       "      <td>2021-06-12</td>\n",
       "    </tr>\n",
       "    <tr>\n",
       "      <th>271</th>\n",
       "      <td>314</td>\n",
       "      <td>2021-06-03</td>\n",
       "    </tr>\n",
       "    <tr>\n",
       "      <th>272</th>\n",
       "      <td>148</td>\n",
       "      <td>2021-09-30</td>\n",
       "    </tr>\n",
       "    <tr>\n",
       "      <th>273</th>\n",
       "      <td>2</td>\n",
       "      <td>2021-10-01</td>\n",
       "    </tr>\n",
       "  </tbody>\n",
       "</table>\n",
       "<p>274 rows × 2 columns</p>\n",
       "</div>"
      ],
      "text/plain": [
       "     CountDEF   FECHA_DEF\n",
       "0       12875  2021-01-20\n",
       "1       12803  2021-01-25\n",
       "2       12636  2021-01-24\n",
       "3       12557  2021-01-26\n",
       "4       12372  2021-01-19\n",
       "..        ...         ...\n",
       "269       397  2021-06-10\n",
       "270       342  2021-06-12\n",
       "271       314  2021-06-03\n",
       "272       148  2021-09-30\n",
       "273         2  2021-10-01\n",
       "\n",
       "[274 rows x 2 columns]"
      ]
     },
     "execution_count": 94,
     "metadata": {},
     "output_type": "execute_result"
    }
   ],
   "source": [
    "df21"
   ]
  },
  {
   "cell_type": "code",
   "execution_count": 75,
   "id": "ebfd7f72",
   "metadata": {},
   "outputs": [],
   "source": []
  },
  {
   "cell_type": "code",
   "execution_count": 95,
   "id": "e841d64c",
   "metadata": {},
   "outputs": [],
   "source": [
    "#df['FECHA_INGRESO'] = pd.to_datatime(data2020.FECHA_INGRESO)\n",
    "df['FECHA_DEF'] = pd.to_datetime(df['FECHA_DEF'], format='%Y-%m-%d')"
   ]
  },
  {
   "cell_type": "code",
   "execution_count": 96,
   "id": "415f8346",
   "metadata": {},
   "outputs": [
    {
     "data": {
      "text/plain": [
       "CountDEF              int64\n",
       "FECHA_DEF    datetime64[ns]\n",
       "dtype: object"
      ]
     },
     "execution_count": 96,
     "metadata": {},
     "output_type": "execute_result"
    }
   ],
   "source": [
    "df.dtypes"
   ]
  },
  {
   "cell_type": "code",
   "execution_count": 97,
   "id": "4c8eeed9",
   "metadata": {},
   "outputs": [],
   "source": [
    "df21['FECHA_DEF'] = pd.to_datetime(df21['FECHA_DEF'], format='%Y-%m-%d')"
   ]
  },
  {
   "cell_type": "code",
   "execution_count": 98,
   "id": "f0e15aba",
   "metadata": {},
   "outputs": [
    {
     "data": {
      "text/plain": [
       "CountDEF              int64\n",
       "FECHA_DEF    datetime64[ns]\n",
       "dtype: object"
      ]
     },
     "execution_count": 98,
     "metadata": {},
     "output_type": "execute_result"
    }
   ],
   "source": [
    "df21.dtypes"
   ]
  },
  {
   "cell_type": "code",
   "execution_count": 99,
   "id": "2253dd14",
   "metadata": {},
   "outputs": [],
   "source": [
    " df = df.sort_values(by='FECHA_DEF') "
   ]
  },
  {
   "cell_type": "code",
   "execution_count": 100,
   "id": "8b4df033",
   "metadata": {},
   "outputs": [
    {
     "data": {
      "text/html": [
       "<div>\n",
       "<style scoped>\n",
       "    .dataframe tbody tr th:only-of-type {\n",
       "        vertical-align: middle;\n",
       "    }\n",
       "\n",
       "    .dataframe tbody tr th {\n",
       "        vertical-align: top;\n",
       "    }\n",
       "\n",
       "    .dataframe thead th {\n",
       "        text-align: right;\n",
       "    }\n",
       "</style>\n",
       "<table border=\"1\" class=\"dataframe\">\n",
       "  <thead>\n",
       "    <tr style=\"text-align: right;\">\n",
       "      <th></th>\n",
       "      <th>CountDEF</th>\n",
       "      <th>FECHA_DEF</th>\n",
       "    </tr>\n",
       "  </thead>\n",
       "  <tbody>\n",
       "    <tr>\n",
       "      <th>292</th>\n",
       "      <td>1</td>\n",
       "      <td>2020-01-24</td>\n",
       "    </tr>\n",
       "    <tr>\n",
       "      <th>290</th>\n",
       "      <td>4</td>\n",
       "      <td>2020-02-07</td>\n",
       "    </tr>\n",
       "    <tr>\n",
       "      <th>291</th>\n",
       "      <td>3</td>\n",
       "      <td>2020-02-24</td>\n",
       "    </tr>\n",
       "    <tr>\n",
       "      <th>289</th>\n",
       "      <td>7</td>\n",
       "      <td>2020-03-03</td>\n",
       "    </tr>\n",
       "    <tr>\n",
       "      <th>288</th>\n",
       "      <td>7</td>\n",
       "      <td>2020-03-13</td>\n",
       "    </tr>\n",
       "  </tbody>\n",
       "</table>\n",
       "</div>"
      ],
      "text/plain": [
       "     CountDEF  FECHA_DEF\n",
       "292         1 2020-01-24\n",
       "290         4 2020-02-07\n",
       "291         3 2020-02-24\n",
       "289         7 2020-03-03\n",
       "288         7 2020-03-13"
      ]
     },
     "execution_count": 100,
     "metadata": {},
     "output_type": "execute_result"
    }
   ],
   "source": [
    "df.head()"
   ]
  },
  {
   "cell_type": "code",
   "execution_count": 101,
   "id": "6c81c39e",
   "metadata": {},
   "outputs": [],
   "source": [
    "df.reset_index(level=0, inplace=True)\n"
   ]
  },
  {
   "cell_type": "code",
   "execution_count": 102,
   "id": "190da017",
   "metadata": {},
   "outputs": [
    {
     "name": "stderr",
     "output_type": "stream",
     "text": [
      "<ipython-input-102-de4faf79ee94>:1: FutureWarning: In a future version of pandas all arguments of DataFrame.drop except for the argument 'labels' will be keyword-only\n",
      "  df=df.drop(['index' ], 1)\n"
     ]
    }
   ],
   "source": [
    "df=df.drop(['index' ], 1)"
   ]
  },
  {
   "cell_type": "code",
   "execution_count": 103,
   "id": "c18cb0bc",
   "metadata": {},
   "outputs": [
    {
     "data": {
      "text/html": [
       "<div>\n",
       "<style scoped>\n",
       "    .dataframe tbody tr th:only-of-type {\n",
       "        vertical-align: middle;\n",
       "    }\n",
       "\n",
       "    .dataframe tbody tr th {\n",
       "        vertical-align: top;\n",
       "    }\n",
       "\n",
       "    .dataframe thead th {\n",
       "        text-align: right;\n",
       "    }\n",
       "</style>\n",
       "<table border=\"1\" class=\"dataframe\">\n",
       "  <thead>\n",
       "    <tr style=\"text-align: right;\">\n",
       "      <th></th>\n",
       "      <th>CountDEF</th>\n",
       "      <th>FECHA_DEF</th>\n",
       "    </tr>\n",
       "  </thead>\n",
       "  <tbody>\n",
       "    <tr>\n",
       "      <th>0</th>\n",
       "      <td>1</td>\n",
       "      <td>2020-01-24</td>\n",
       "    </tr>\n",
       "    <tr>\n",
       "      <th>1</th>\n",
       "      <td>4</td>\n",
       "      <td>2020-02-07</td>\n",
       "    </tr>\n",
       "    <tr>\n",
       "      <th>2</th>\n",
       "      <td>3</td>\n",
       "      <td>2020-02-24</td>\n",
       "    </tr>\n",
       "    <tr>\n",
       "      <th>3</th>\n",
       "      <td>7</td>\n",
       "      <td>2020-03-03</td>\n",
       "    </tr>\n",
       "    <tr>\n",
       "      <th>4</th>\n",
       "      <td>7</td>\n",
       "      <td>2020-03-13</td>\n",
       "    </tr>\n",
       "    <tr>\n",
       "      <th>...</th>\n",
       "      <td>...</td>\n",
       "      <td>...</td>\n",
       "    </tr>\n",
       "    <tr>\n",
       "      <th>288</th>\n",
       "      <td>8719</td>\n",
       "      <td>2020-12-27</td>\n",
       "    </tr>\n",
       "    <tr>\n",
       "      <th>289</th>\n",
       "      <td>9154</td>\n",
       "      <td>2020-12-28</td>\n",
       "    </tr>\n",
       "    <tr>\n",
       "      <th>290</th>\n",
       "      <td>9217</td>\n",
       "      <td>2020-12-29</td>\n",
       "    </tr>\n",
       "    <tr>\n",
       "      <th>291</th>\n",
       "      <td>8939</td>\n",
       "      <td>2020-12-30</td>\n",
       "    </tr>\n",
       "    <tr>\n",
       "      <th>292</th>\n",
       "      <td>8399</td>\n",
       "      <td>2020-12-31</td>\n",
       "    </tr>\n",
       "  </tbody>\n",
       "</table>\n",
       "<p>293 rows × 2 columns</p>\n",
       "</div>"
      ],
      "text/plain": [
       "     CountDEF  FECHA_DEF\n",
       "0           1 2020-01-24\n",
       "1           4 2020-02-07\n",
       "2           3 2020-02-24\n",
       "3           7 2020-03-03\n",
       "4           7 2020-03-13\n",
       "..        ...        ...\n",
       "288      8719 2020-12-27\n",
       "289      9154 2020-12-28\n",
       "290      9217 2020-12-29\n",
       "291      8939 2020-12-30\n",
       "292      8399 2020-12-31\n",
       "\n",
       "[293 rows x 2 columns]"
      ]
     },
     "execution_count": 103,
     "metadata": {},
     "output_type": "execute_result"
    }
   ],
   "source": [
    "df"
   ]
  },
  {
   "cell_type": "code",
   "execution_count": 104,
   "id": "a64d6c4e",
   "metadata": {},
   "outputs": [
    {
     "data": {
      "text/plain": [
       "CountDEF              int64\n",
       "FECHA_DEF    datetime64[ns]\n",
       "dtype: object"
      ]
     },
     "execution_count": 104,
     "metadata": {},
     "output_type": "execute_result"
    }
   ],
   "source": [
    "df.dtypes"
   ]
  },
  {
   "cell_type": "code",
   "execution_count": 105,
   "id": "7f9d4ecd",
   "metadata": {},
   "outputs": [],
   "source": [
    " df21 = df21.sort_values(by='FECHA_DEF') "
   ]
  },
  {
   "cell_type": "code",
   "execution_count": 106,
   "id": "98607248",
   "metadata": {},
   "outputs": [],
   "source": [
    "df21.reset_index(level=0, inplace=True)"
   ]
  },
  {
   "cell_type": "code",
   "execution_count": 107,
   "id": "042afd65",
   "metadata": {},
   "outputs": [
    {
     "name": "stderr",
     "output_type": "stream",
     "text": [
      "<ipython-input-107-5b610b0ace55>:1: FutureWarning: In a future version of pandas all arguments of DataFrame.drop except for the argument 'labels' will be keyword-only\n",
      "  df21=df21.drop(['index' ], 1)\n"
     ]
    }
   ],
   "source": [
    "df21=df21.drop(['index' ], 1)"
   ]
  },
  {
   "cell_type": "code",
   "execution_count": 108,
   "id": "26dbcc70",
   "metadata": {},
   "outputs": [
    {
     "data": {
      "text/html": [
       "<div>\n",
       "<style scoped>\n",
       "    .dataframe tbody tr th:only-of-type {\n",
       "        vertical-align: middle;\n",
       "    }\n",
       "\n",
       "    .dataframe tbody tr th {\n",
       "        vertical-align: top;\n",
       "    }\n",
       "\n",
       "    .dataframe thead th {\n",
       "        text-align: right;\n",
       "    }\n",
       "</style>\n",
       "<table border=\"1\" class=\"dataframe\">\n",
       "  <thead>\n",
       "    <tr style=\"text-align: right;\">\n",
       "      <th></th>\n",
       "      <th>CountDEF</th>\n",
       "      <th>FECHA_DEF</th>\n",
       "    </tr>\n",
       "  </thead>\n",
       "  <tbody>\n",
       "    <tr>\n",
       "      <th>0</th>\n",
       "      <td>793</td>\n",
       "      <td>2021-01-01</td>\n",
       "    </tr>\n",
       "    <tr>\n",
       "      <th>1</th>\n",
       "      <td>1727</td>\n",
       "      <td>2021-01-02</td>\n",
       "    </tr>\n",
       "    <tr>\n",
       "      <th>2</th>\n",
       "      <td>2780</td>\n",
       "      <td>2021-01-03</td>\n",
       "    </tr>\n",
       "    <tr>\n",
       "      <th>3</th>\n",
       "      <td>3695</td>\n",
       "      <td>2021-01-04</td>\n",
       "    </tr>\n",
       "    <tr>\n",
       "      <th>4</th>\n",
       "      <td>4438</td>\n",
       "      <td>2021-01-05</td>\n",
       "    </tr>\n",
       "    <tr>\n",
       "      <th>...</th>\n",
       "      <td>...</td>\n",
       "      <td>...</td>\n",
       "    </tr>\n",
       "    <tr>\n",
       "      <th>269</th>\n",
       "      <td>546</td>\n",
       "      <td>2021-09-27</td>\n",
       "    </tr>\n",
       "    <tr>\n",
       "      <th>270</th>\n",
       "      <td>532</td>\n",
       "      <td>2021-09-28</td>\n",
       "    </tr>\n",
       "    <tr>\n",
       "      <th>271</th>\n",
       "      <td>404</td>\n",
       "      <td>2021-09-29</td>\n",
       "    </tr>\n",
       "    <tr>\n",
       "      <th>272</th>\n",
       "      <td>148</td>\n",
       "      <td>2021-09-30</td>\n",
       "    </tr>\n",
       "    <tr>\n",
       "      <th>273</th>\n",
       "      <td>2</td>\n",
       "      <td>2021-10-01</td>\n",
       "    </tr>\n",
       "  </tbody>\n",
       "</table>\n",
       "<p>274 rows × 2 columns</p>\n",
       "</div>"
      ],
      "text/plain": [
       "     CountDEF  FECHA_DEF\n",
       "0         793 2021-01-01\n",
       "1        1727 2021-01-02\n",
       "2        2780 2021-01-03\n",
       "3        3695 2021-01-04\n",
       "4        4438 2021-01-05\n",
       "..        ...        ...\n",
       "269       546 2021-09-27\n",
       "270       532 2021-09-28\n",
       "271       404 2021-09-29\n",
       "272       148 2021-09-30\n",
       "273         2 2021-10-01\n",
       "\n",
       "[274 rows x 2 columns]"
      ]
     },
     "execution_count": 108,
     "metadata": {},
     "output_type": "execute_result"
    }
   ],
   "source": [
    "df21"
   ]
  },
  {
   "cell_type": "code",
   "execution_count": 109,
   "id": "346fe7be",
   "metadata": {},
   "outputs": [
    {
     "data": {
      "text/html": [
       "<div>\n",
       "<style scoped>\n",
       "    .dataframe tbody tr th:only-of-type {\n",
       "        vertical-align: middle;\n",
       "    }\n",
       "\n",
       "    .dataframe tbody tr th {\n",
       "        vertical-align: top;\n",
       "    }\n",
       "\n",
       "    .dataframe thead th {\n",
       "        text-align: right;\n",
       "    }\n",
       "</style>\n",
       "<table border=\"1\" class=\"dataframe\">\n",
       "  <thead>\n",
       "    <tr style=\"text-align: right;\">\n",
       "      <th></th>\n",
       "      <th>CountDEF</th>\n",
       "      <th>FECHA_DEF</th>\n",
       "    </tr>\n",
       "  </thead>\n",
       "  <tbody>\n",
       "    <tr>\n",
       "      <th>0</th>\n",
       "      <td>1</td>\n",
       "      <td>2020-01-24</td>\n",
       "    </tr>\n",
       "    <tr>\n",
       "      <th>1</th>\n",
       "      <td>4</td>\n",
       "      <td>2020-02-07</td>\n",
       "    </tr>\n",
       "    <tr>\n",
       "      <th>2</th>\n",
       "      <td>3</td>\n",
       "      <td>2020-02-24</td>\n",
       "    </tr>\n",
       "    <tr>\n",
       "      <th>3</th>\n",
       "      <td>7</td>\n",
       "      <td>2020-03-03</td>\n",
       "    </tr>\n",
       "    <tr>\n",
       "      <th>4</th>\n",
       "      <td>7</td>\n",
       "      <td>2020-03-13</td>\n",
       "    </tr>\n",
       "    <tr>\n",
       "      <th>...</th>\n",
       "      <td>...</td>\n",
       "      <td>...</td>\n",
       "    </tr>\n",
       "    <tr>\n",
       "      <th>288</th>\n",
       "      <td>8719</td>\n",
       "      <td>2020-12-27</td>\n",
       "    </tr>\n",
       "    <tr>\n",
       "      <th>289</th>\n",
       "      <td>9154</td>\n",
       "      <td>2020-12-28</td>\n",
       "    </tr>\n",
       "    <tr>\n",
       "      <th>290</th>\n",
       "      <td>9217</td>\n",
       "      <td>2020-12-29</td>\n",
       "    </tr>\n",
       "    <tr>\n",
       "      <th>291</th>\n",
       "      <td>8939</td>\n",
       "      <td>2020-12-30</td>\n",
       "    </tr>\n",
       "    <tr>\n",
       "      <th>292</th>\n",
       "      <td>8399</td>\n",
       "      <td>2020-12-31</td>\n",
       "    </tr>\n",
       "  </tbody>\n",
       "</table>\n",
       "<p>293 rows × 2 columns</p>\n",
       "</div>"
      ],
      "text/plain": [
       "     CountDEF  FECHA_DEF\n",
       "0           1 2020-01-24\n",
       "1           4 2020-02-07\n",
       "2           3 2020-02-24\n",
       "3           7 2020-03-03\n",
       "4           7 2020-03-13\n",
       "..        ...        ...\n",
       "288      8719 2020-12-27\n",
       "289      9154 2020-12-28\n",
       "290      9217 2020-12-29\n",
       "291      8939 2020-12-30\n",
       "292      8399 2020-12-31\n",
       "\n",
       "[293 rows x 2 columns]"
      ]
     },
     "execution_count": 109,
     "metadata": {},
     "output_type": "execute_result"
    }
   ],
   "source": [
    "df"
   ]
  },
  {
   "cell_type": "code",
   "execution_count": 110,
   "id": "5e2825f2",
   "metadata": {},
   "outputs": [
    {
     "data": {
      "text/plain": [
       "CountDEF              int64\n",
       "FECHA_DEF    datetime64[ns]\n",
       "dtype: object"
      ]
     },
     "execution_count": 110,
     "metadata": {},
     "output_type": "execute_result"
    }
   ],
   "source": [
    "df21.dtypes"
   ]
  },
  {
   "cell_type": "code",
   "execution_count": 111,
   "id": "95b9a078",
   "metadata": {},
   "outputs": [
    {
     "data": {
      "text/plain": [
       "CountDEF              int64\n",
       "FECHA_DEF    datetime64[ns]\n",
       "dtype: object"
      ]
     },
     "execution_count": 111,
     "metadata": {},
     "output_type": "execute_result"
    }
   ],
   "source": [
    "df.dtypes"
   ]
  },
  {
   "cell_type": "code",
   "execution_count": 112,
   "id": "09fb5a5f",
   "metadata": {},
   "outputs": [],
   "source": [
    "df.to_csv ('Muertes_UpTDia2020.csv', index = False, header=True)"
   ]
  },
  {
   "cell_type": "code",
   "execution_count": 113,
   "id": "a88b0068",
   "metadata": {},
   "outputs": [],
   "source": [
    "df21.to_csv ('Muertes_UpTDia2021.csv', index = False, header=True)"
   ]
  },
  {
   "cell_type": "code",
   "execution_count": 114,
   "id": "0470426f",
   "metadata": {},
   "outputs": [],
   "source": [
    "Muertes2020_2021 = [df,df21] "
   ]
  },
  {
   "cell_type": "code",
   "execution_count": 115,
   "id": "9e64575c",
   "metadata": {},
   "outputs": [],
   "source": [
    "Muertes2020_2021 = pd.concat(Muertes2020_2021)"
   ]
  },
  {
   "cell_type": "code",
   "execution_count": 116,
   "id": "2b34955d",
   "metadata": {},
   "outputs": [
    {
     "data": {
      "text/html": [
       "<div>\n",
       "<style scoped>\n",
       "    .dataframe tbody tr th:only-of-type {\n",
       "        vertical-align: middle;\n",
       "    }\n",
       "\n",
       "    .dataframe tbody tr th {\n",
       "        vertical-align: top;\n",
       "    }\n",
       "\n",
       "    .dataframe thead th {\n",
       "        text-align: right;\n",
       "    }\n",
       "</style>\n",
       "<table border=\"1\" class=\"dataframe\">\n",
       "  <thead>\n",
       "    <tr style=\"text-align: right;\">\n",
       "      <th></th>\n",
       "      <th>CountDEF</th>\n",
       "      <th>FECHA_DEF</th>\n",
       "    </tr>\n",
       "  </thead>\n",
       "  <tbody>\n",
       "    <tr>\n",
       "      <th>0</th>\n",
       "      <td>1</td>\n",
       "      <td>2020-01-24</td>\n",
       "    </tr>\n",
       "    <tr>\n",
       "      <th>1</th>\n",
       "      <td>4</td>\n",
       "      <td>2020-02-07</td>\n",
       "    </tr>\n",
       "    <tr>\n",
       "      <th>2</th>\n",
       "      <td>3</td>\n",
       "      <td>2020-02-24</td>\n",
       "    </tr>\n",
       "    <tr>\n",
       "      <th>3</th>\n",
       "      <td>7</td>\n",
       "      <td>2020-03-03</td>\n",
       "    </tr>\n",
       "    <tr>\n",
       "      <th>4</th>\n",
       "      <td>7</td>\n",
       "      <td>2020-03-13</td>\n",
       "    </tr>\n",
       "    <tr>\n",
       "      <th>...</th>\n",
       "      <td>...</td>\n",
       "      <td>...</td>\n",
       "    </tr>\n",
       "    <tr>\n",
       "      <th>269</th>\n",
       "      <td>546</td>\n",
       "      <td>2021-09-27</td>\n",
       "    </tr>\n",
       "    <tr>\n",
       "      <th>270</th>\n",
       "      <td>532</td>\n",
       "      <td>2021-09-28</td>\n",
       "    </tr>\n",
       "    <tr>\n",
       "      <th>271</th>\n",
       "      <td>404</td>\n",
       "      <td>2021-09-29</td>\n",
       "    </tr>\n",
       "    <tr>\n",
       "      <th>272</th>\n",
       "      <td>148</td>\n",
       "      <td>2021-09-30</td>\n",
       "    </tr>\n",
       "    <tr>\n",
       "      <th>273</th>\n",
       "      <td>2</td>\n",
       "      <td>2021-10-01</td>\n",
       "    </tr>\n",
       "  </tbody>\n",
       "</table>\n",
       "<p>567 rows × 2 columns</p>\n",
       "</div>"
      ],
      "text/plain": [
       "     CountDEF  FECHA_DEF\n",
       "0           1 2020-01-24\n",
       "1           4 2020-02-07\n",
       "2           3 2020-02-24\n",
       "3           7 2020-03-03\n",
       "4           7 2020-03-13\n",
       "..        ...        ...\n",
       "269       546 2021-09-27\n",
       "270       532 2021-09-28\n",
       "271       404 2021-09-29\n",
       "272       148 2021-09-30\n",
       "273         2 2021-10-01\n",
       "\n",
       "[567 rows x 2 columns]"
      ]
     },
     "execution_count": 116,
     "metadata": {},
     "output_type": "execute_result"
    }
   ],
   "source": [
    "Muertes2020_2021"
   ]
  },
  {
   "cell_type": "code",
   "execution_count": 117,
   "id": "1db89447",
   "metadata": {},
   "outputs": [
    {
     "data": {
      "text/plain": [
       "CountDEF              int64\n",
       "FECHA_DEF    datetime64[ns]\n",
       "dtype: object"
      ]
     },
     "execution_count": 117,
     "metadata": {},
     "output_type": "execute_result"
    }
   ],
   "source": [
    "Muertes2020_2021.dtypes"
   ]
  },
  {
   "cell_type": "code",
   "execution_count": 118,
   "id": "c4f6d36c",
   "metadata": {},
   "outputs": [],
   "source": [
    "Muertes2020_2021 = Muertes2020_2021.sort_values(by='FECHA_DEF') "
   ]
  },
  {
   "cell_type": "code",
   "execution_count": 119,
   "id": "3fe034fd",
   "metadata": {},
   "outputs": [
    {
     "data": {
      "text/html": [
       "<div>\n",
       "<style scoped>\n",
       "    .dataframe tbody tr th:only-of-type {\n",
       "        vertical-align: middle;\n",
       "    }\n",
       "\n",
       "    .dataframe tbody tr th {\n",
       "        vertical-align: top;\n",
       "    }\n",
       "\n",
       "    .dataframe thead th {\n",
       "        text-align: right;\n",
       "    }\n",
       "</style>\n",
       "<table border=\"1\" class=\"dataframe\">\n",
       "  <thead>\n",
       "    <tr style=\"text-align: right;\">\n",
       "      <th></th>\n",
       "      <th>CountDEF</th>\n",
       "      <th>FECHA_DEF</th>\n",
       "    </tr>\n",
       "  </thead>\n",
       "  <tbody>\n",
       "    <tr>\n",
       "      <th>0</th>\n",
       "      <td>1</td>\n",
       "      <td>2020-01-24</td>\n",
       "    </tr>\n",
       "    <tr>\n",
       "      <th>1</th>\n",
       "      <td>4</td>\n",
       "      <td>2020-02-07</td>\n",
       "    </tr>\n",
       "    <tr>\n",
       "      <th>2</th>\n",
       "      <td>3</td>\n",
       "      <td>2020-02-24</td>\n",
       "    </tr>\n",
       "    <tr>\n",
       "      <th>3</th>\n",
       "      <td>7</td>\n",
       "      <td>2020-03-03</td>\n",
       "    </tr>\n",
       "    <tr>\n",
       "      <th>4</th>\n",
       "      <td>7</td>\n",
       "      <td>2020-03-13</td>\n",
       "    </tr>\n",
       "    <tr>\n",
       "      <th>...</th>\n",
       "      <td>...</td>\n",
       "      <td>...</td>\n",
       "    </tr>\n",
       "    <tr>\n",
       "      <th>269</th>\n",
       "      <td>546</td>\n",
       "      <td>2021-09-27</td>\n",
       "    </tr>\n",
       "    <tr>\n",
       "      <th>270</th>\n",
       "      <td>532</td>\n",
       "      <td>2021-09-28</td>\n",
       "    </tr>\n",
       "    <tr>\n",
       "      <th>271</th>\n",
       "      <td>404</td>\n",
       "      <td>2021-09-29</td>\n",
       "    </tr>\n",
       "    <tr>\n",
       "      <th>272</th>\n",
       "      <td>148</td>\n",
       "      <td>2021-09-30</td>\n",
       "    </tr>\n",
       "    <tr>\n",
       "      <th>273</th>\n",
       "      <td>2</td>\n",
       "      <td>2021-10-01</td>\n",
       "    </tr>\n",
       "  </tbody>\n",
       "</table>\n",
       "<p>567 rows × 2 columns</p>\n",
       "</div>"
      ],
      "text/plain": [
       "     CountDEF  FECHA_DEF\n",
       "0           1 2020-01-24\n",
       "1           4 2020-02-07\n",
       "2           3 2020-02-24\n",
       "3           7 2020-03-03\n",
       "4           7 2020-03-13\n",
       "..        ...        ...\n",
       "269       546 2021-09-27\n",
       "270       532 2021-09-28\n",
       "271       404 2021-09-29\n",
       "272       148 2021-09-30\n",
       "273         2 2021-10-01\n",
       "\n",
       "[567 rows x 2 columns]"
      ]
     },
     "execution_count": 119,
     "metadata": {},
     "output_type": "execute_result"
    }
   ],
   "source": [
    "Muertes2020_2021"
   ]
  },
  {
   "cell_type": "code",
   "execution_count": 120,
   "id": "be442e13",
   "metadata": {},
   "outputs": [],
   "source": [
    "Muertes2020_2021.reset_index(level=0, inplace=True)"
   ]
  },
  {
   "cell_type": "code",
   "execution_count": 121,
   "id": "cc297928",
   "metadata": {},
   "outputs": [
    {
     "name": "stderr",
     "output_type": "stream",
     "text": [
      "<ipython-input-121-cdc5cf260179>:1: FutureWarning: In a future version of pandas all arguments of DataFrame.drop except for the argument 'labels' will be keyword-only\n",
      "  Muertes2020_2021=Muertes2020_2021.drop(['index' ], 1)\n"
     ]
    }
   ],
   "source": [
    "Muertes2020_2021=Muertes2020_2021.drop(['index' ], 1)"
   ]
  },
  {
   "cell_type": "code",
   "execution_count": 122,
   "id": "15de72a6",
   "metadata": {},
   "outputs": [
    {
     "data": {
      "text/html": [
       "<div>\n",
       "<style scoped>\n",
       "    .dataframe tbody tr th:only-of-type {\n",
       "        vertical-align: middle;\n",
       "    }\n",
       "\n",
       "    .dataframe tbody tr th {\n",
       "        vertical-align: top;\n",
       "    }\n",
       "\n",
       "    .dataframe thead th {\n",
       "        text-align: right;\n",
       "    }\n",
       "</style>\n",
       "<table border=\"1\" class=\"dataframe\">\n",
       "  <thead>\n",
       "    <tr style=\"text-align: right;\">\n",
       "      <th></th>\n",
       "      <th>CountDEF</th>\n",
       "      <th>FECHA_DEF</th>\n",
       "    </tr>\n",
       "  </thead>\n",
       "  <tbody>\n",
       "    <tr>\n",
       "      <th>0</th>\n",
       "      <td>1</td>\n",
       "      <td>2020-01-24</td>\n",
       "    </tr>\n",
       "    <tr>\n",
       "      <th>1</th>\n",
       "      <td>4</td>\n",
       "      <td>2020-02-07</td>\n",
       "    </tr>\n",
       "    <tr>\n",
       "      <th>2</th>\n",
       "      <td>3</td>\n",
       "      <td>2020-02-24</td>\n",
       "    </tr>\n",
       "    <tr>\n",
       "      <th>3</th>\n",
       "      <td>7</td>\n",
       "      <td>2020-03-03</td>\n",
       "    </tr>\n",
       "    <tr>\n",
       "      <th>4</th>\n",
       "      <td>7</td>\n",
       "      <td>2020-03-13</td>\n",
       "    </tr>\n",
       "    <tr>\n",
       "      <th>...</th>\n",
       "      <td>...</td>\n",
       "      <td>...</td>\n",
       "    </tr>\n",
       "    <tr>\n",
       "      <th>562</th>\n",
       "      <td>546</td>\n",
       "      <td>2021-09-27</td>\n",
       "    </tr>\n",
       "    <tr>\n",
       "      <th>563</th>\n",
       "      <td>532</td>\n",
       "      <td>2021-09-28</td>\n",
       "    </tr>\n",
       "    <tr>\n",
       "      <th>564</th>\n",
       "      <td>404</td>\n",
       "      <td>2021-09-29</td>\n",
       "    </tr>\n",
       "    <tr>\n",
       "      <th>565</th>\n",
       "      <td>148</td>\n",
       "      <td>2021-09-30</td>\n",
       "    </tr>\n",
       "    <tr>\n",
       "      <th>566</th>\n",
       "      <td>2</td>\n",
       "      <td>2021-10-01</td>\n",
       "    </tr>\n",
       "  </tbody>\n",
       "</table>\n",
       "<p>567 rows × 2 columns</p>\n",
       "</div>"
      ],
      "text/plain": [
       "     CountDEF  FECHA_DEF\n",
       "0           1 2020-01-24\n",
       "1           4 2020-02-07\n",
       "2           3 2020-02-24\n",
       "3           7 2020-03-03\n",
       "4           7 2020-03-13\n",
       "..        ...        ...\n",
       "562       546 2021-09-27\n",
       "563       532 2021-09-28\n",
       "564       404 2021-09-29\n",
       "565       148 2021-09-30\n",
       "566         2 2021-10-01\n",
       "\n",
       "[567 rows x 2 columns]"
      ]
     },
     "execution_count": 122,
     "metadata": {},
     "output_type": "execute_result"
    }
   ],
   "source": [
    "Muertes2020_2021"
   ]
  },
  {
   "cell_type": "code",
   "execution_count": 123,
   "id": "9abd8f7b",
   "metadata": {},
   "outputs": [],
   "source": [
    "Muertes2020_2021.to_csv ('MuertesUpT2020_2021.csv', index = False, header=True)"
   ]
  },
  {
   "cell_type": "code",
   "execution_count": null,
   "id": "a63bcc77",
   "metadata": {},
   "outputs": [],
   "source": []
  }
 ],
 "metadata": {
  "kernelspec": {
   "display_name": "Python 3",
   "language": "python",
   "name": "python3"
  },
  "language_info": {
   "codemirror_mode": {
    "name": "ipython",
    "version": 3
   },
   "file_extension": ".py",
   "mimetype": "text/x-python",
   "name": "python",
   "nbconvert_exporter": "python",
   "pygments_lexer": "ipython3",
   "version": "3.8.8"
  }
 },
 "nbformat": 4,
 "nbformat_minor": 5
}
