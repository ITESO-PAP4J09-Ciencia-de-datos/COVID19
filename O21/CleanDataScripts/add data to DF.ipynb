{
 "cells": [
  {
   "cell_type": "code",
   "execution_count": 1,
   "id": "71cfc601",
   "metadata": {},
   "outputs": [],
   "source": [
    "import pandas as pd"
   ]
  },
  {
   "cell_type": "code",
   "execution_count": 2,
   "id": "5f6ee956",
   "metadata": {},
   "outputs": [
    {
     "name": "stderr",
     "output_type": "stream",
     "text": [
      "C:\\Users\\pjher\\anaconda3\\lib\\site-packages\\IPython\\core\\interactiveshell.py:3437: DtypeWarning: Columns (38) have mixed types.Specify dtype option on import or set low_memory=False.\n",
      "  exec(code_obj, self.user_global_ns, self.user_ns)\n"
     ]
    }
   ],
   "source": [
    "dataoct = pd.read_csv(\"211001COVID19MEXICO.csv\") \n",
    "\n"
   ]
  },
  {
   "cell_type": "code",
   "execution_count": 3,
   "id": "e2df3c42",
   "metadata": {},
   "outputs": [],
   "source": [
    "dataoct = dataoct.drop(['ORIGEN','ENTIDAD_NAC','PAIS_NACIONALIDAD','PAIS_ORIGEN','MIGRANTE'],axis=1)"
   ]
  },
  {
   "cell_type": "code",
   "execution_count": 4,
   "id": "7e5e1e79",
   "metadata": {},
   "outputs": [],
   "source": [
    "dataoct = dataoct.drop(['INDIGENA','TOMA_MUESTRA_LAB','RESULTADO_LAB','TOMA_MUESTRA_ANTIGENO'],axis=1)"
   ]
  },
  {
   "cell_type": "code",
   "execution_count": 5,
   "id": "fbc33f6e",
   "metadata": {},
   "outputs": [
    {
     "data": {
      "text/plain": [
       "['FECHA_ACTUALIZACION',\n",
       " 'ID_REGISTRO',\n",
       " 'SECTOR',\n",
       " 'ENTIDAD_UM',\n",
       " 'SEXO',\n",
       " 'ENTIDAD_RES',\n",
       " 'MUNICIPIO_RES',\n",
       " 'TIPO_PACIENTE',\n",
       " 'FECHA_INGRESO',\n",
       " 'FECHA_SINTOMAS',\n",
       " 'FECHA_DEF',\n",
       " 'INTUBADO',\n",
       " 'NEUMONIA',\n",
       " 'EDAD',\n",
       " 'NACIONALIDAD',\n",
       " 'EMBARAZO',\n",
       " 'HABLA_LENGUA_INDIG',\n",
       " 'DIABETES',\n",
       " 'EPOC',\n",
       " 'ASMA',\n",
       " 'INMUSUPR',\n",
       " 'HIPERTENSION',\n",
       " 'OTRA_COM',\n",
       " 'CARDIOVASCULAR',\n",
       " 'OBESIDAD',\n",
       " 'RENAL_CRONICA',\n",
       " 'TABAQUISMO',\n",
       " 'OTRO_CASO',\n",
       " 'RESULTADO_ANTIGENO',\n",
       " 'CLASIFICACION_FINAL',\n",
       " 'UCI']"
      ]
     },
     "execution_count": 5,
     "metadata": {},
     "output_type": "execute_result"
    }
   ],
   "source": [
    "list(dataoct)"
   ]
  },
  {
   "cell_type": "code",
   "execution_count": 6,
   "id": "27e8f485",
   "metadata": {},
   "outputs": [
    {
     "data": {
      "text/plain": [
       "(10702352, 31)"
      ]
     },
     "execution_count": 6,
     "metadata": {},
     "output_type": "execute_result"
    }
   ],
   "source": [
    "dataoct.shape"
   ]
  },
  {
   "cell_type": "code",
   "execution_count": 7,
   "id": "1ad87959",
   "metadata": {},
   "outputs": [],
   "source": [
    "dataoctF = dataoct[dataoct[\"FECHA_INGRESO\"].str.contains(\"2021\")==False]"
   ]
  },
  {
   "cell_type": "code",
   "execution_count": 8,
   "id": "53d30fe5",
   "metadata": {},
   "outputs": [
    {
     "data": {
      "text/plain": [
       "(3789352, 31)"
      ]
     },
     "execution_count": 8,
     "metadata": {},
     "output_type": "execute_result"
    }
   ],
   "source": [
    "dataoctF.shape"
   ]
  },
  {
   "cell_type": "code",
   "execution_count": 9,
   "id": "ca4d030e",
   "metadata": {},
   "outputs": [],
   "source": [
    "datanov = pd.read_csv(\"211101COVID19MEXICO.csv\")"
   ]
  },
  {
   "cell_type": "code",
   "execution_count": 10,
   "id": "16adc187",
   "metadata": {},
   "outputs": [],
   "source": [
    "datanov = datanov.drop(['ORIGEN','ENTIDAD_NAC','PAIS_NACIONALIDAD','PAIS_ORIGEN','MIGRANTE'],axis=1)"
   ]
  },
  {
   "cell_type": "code",
   "execution_count": 11,
   "id": "7af01ca9",
   "metadata": {},
   "outputs": [],
   "source": [
    "datanov = datanov.drop(['INDIGENA','TOMA_MUESTRA_LAB','RESULTADO_LAB','TOMA_MUESTRA_ANTIGENO'],axis=1)"
   ]
  },
  {
   "cell_type": "code",
   "execution_count": 12,
   "id": "1b1b9312",
   "metadata": {},
   "outputs": [
    {
     "data": {
      "text/plain": [
       "(11354665, 31)"
      ]
     },
     "execution_count": 12,
     "metadata": {},
     "output_type": "execute_result"
    }
   ],
   "source": [
    "datanov.shape"
   ]
  },
  {
   "cell_type": "code",
   "execution_count": 13,
   "id": "0ddcbedd",
   "metadata": {},
   "outputs": [],
   "source": [
    "datanovF = datanov[datanov[\"FECHA_INGRESO\"].str.contains(\"2021\")==False]"
   ]
  },
  {
   "cell_type": "code",
   "execution_count": 14,
   "id": "5762118a",
   "metadata": {},
   "outputs": [
    {
     "data": {
      "text/plain": [
       "(3791119, 31)"
      ]
     },
     "execution_count": 14,
     "metadata": {},
     "output_type": "execute_result"
    }
   ],
   "source": [
    "datanovF.shape"
   ]
  },
  {
   "cell_type": "code",
   "execution_count": 15,
   "id": "bfa3b8ff",
   "metadata": {},
   "outputs": [],
   "source": [
    "Dataframes2020update = [dataoctF, datanovF] "
   ]
  },
  {
   "cell_type": "code",
   "execution_count": 16,
   "id": "376748d5",
   "metadata": {},
   "outputs": [],
   "source": [
    "Data2020update = pd.concat(Dataframes2020update)"
   ]
  },
  {
   "cell_type": "code",
   "execution_count": 17,
   "id": "7c2d0701",
   "metadata": {},
   "outputs": [
    {
     "data": {
      "text/plain": [
       "(7580471, 31)"
      ]
     },
     "execution_count": 17,
     "metadata": {},
     "output_type": "execute_result"
    }
   ],
   "source": [
    "Data2020update.shape"
   ]
  },
  {
   "cell_type": "code",
   "execution_count": 18,
   "id": "4023e04f",
   "metadata": {},
   "outputs": [],
   "source": [
    "Data2020updateFil = Data2020update[Data2020update['CLASIFICACION_FINAL'] < 4]"
   ]
  },
  {
   "cell_type": "code",
   "execution_count": 19,
   "id": "07202918",
   "metadata": {},
   "outputs": [
    {
     "data": {
      "text/plain": [
       "(3044603, 31)"
      ]
     },
     "execution_count": 19,
     "metadata": {},
     "output_type": "execute_result"
    }
   ],
   "source": [
    "Data2020updateFil.shape"
   ]
  },
  {
   "cell_type": "code",
   "execution_count": 20,
   "id": "21b65869",
   "metadata": {},
   "outputs": [
    {
     "data": {
      "text/plain": [
       "3    2883261\n",
       "1     139512\n",
       "2      21830\n",
       "Name: CLASIFICACION_FINAL, dtype: int64"
      ]
     },
     "execution_count": 20,
     "metadata": {},
     "output_type": "execute_result"
    }
   ],
   "source": [
    "Data2020updateFil['CLASIFICACION_FINAL'].value_counts()"
   ]
  },
  {
   "cell_type": "code",
   "execution_count": 21,
   "id": "fe93b6c5",
   "metadata": {},
   "outputs": [],
   "source": [
    "Data2020updateFil = Data2020updateFil.drop(['CLASIFICACION_FINAL'],axis=1)"
   ]
  },
  {
   "cell_type": "code",
   "execution_count": 22,
   "id": "a20c50b6",
   "metadata": {},
   "outputs": [
    {
     "data": {
      "text/plain": [
       "(3044603, 30)"
      ]
     },
     "execution_count": 22,
     "metadata": {},
     "output_type": "execute_result"
    }
   ],
   "source": [
    "Data2020updateFil.shape"
   ]
  },
  {
   "cell_type": "code",
   "execution_count": 23,
   "id": "9d808b3f",
   "metadata": {},
   "outputs": [
    {
     "data": {
      "text/plain": [
       "<bound method NDFrame.head of          FECHA_ACTUALIZACION ID_REGISTRO  SECTOR  ENTIDAD_UM  SEXO  \\\n",
       "0                 2021-10-01      z482b8      12           9     2   \n",
       "1                 2021-10-01      z49a69      12          23     1   \n",
       "8                 2021-10-01      z33a15      12          12     2   \n",
       "14                2021-10-01      z4f06b       6          22     2   \n",
       "15                2021-10-01      z2770b      12           9     1   \n",
       "...                      ...         ...     ...         ...   ...   \n",
       "11265494          2021-11-01      c5ca62       9           9     2   \n",
       "11265878          2021-11-01      be1843      12           2     1   \n",
       "11300936          2021-11-01      4ca9bb       3          25     2   \n",
       "11321837          2021-11-01      c5fafd       4           9     1   \n",
       "11321838          2021-11-01      a6276c       4           9     2   \n",
       "\n",
       "          ENTIDAD_RES  MUNICIPIO_RES  TIPO_PACIENTE FECHA_INGRESO  \\\n",
       "0                   9             12              1    2020-10-16   \n",
       "1                  23              4              2    2020-07-20   \n",
       "8                  12             29              1    2020-08-19   \n",
       "14                 22             14              1    2020-08-31   \n",
       "15                  9              6              1    2020-09-08   \n",
       "...               ...            ...            ...           ...   \n",
       "11265494            9              7              1    2020-12-31   \n",
       "11265878            2              4              2    2020-12-27   \n",
       "11300936           25              6              2    2020-11-09   \n",
       "11321837            9             15              2    2020-11-16   \n",
       "11321838            9             13              2    2020-10-09   \n",
       "\n",
       "         FECHA_SINTOMAS  ... INMUSUPR  HIPERTENSION  OTRA_COM  CARDIOVASCULAR  \\\n",
       "0            2020-10-16  ...        2             2         2               2   \n",
       "1            2020-07-17  ...        2             1         2               2   \n",
       "8            2020-08-17  ...        2             2         2               2   \n",
       "14           2020-08-26  ...        2             2         2               2   \n",
       "15           2020-09-03  ...        2             2         2               2   \n",
       "...                 ...  ...      ...           ...       ...             ...   \n",
       "11265494     2020-12-25  ...        2             2         2               2   \n",
       "11265878     2020-12-24  ...        2             1         2               2   \n",
       "11300936     2020-11-02  ...        2             2         2               2   \n",
       "11321837     2020-11-16  ...        2             2         2               2   \n",
       "11321838     2020-10-01  ...        2             2         2               2   \n",
       "\n",
       "          OBESIDAD  RENAL_CRONICA  TABAQUISMO  OTRO_CASO  RESULTADO_ANTIGENO  \\\n",
       "0                2              2           2          2                  97   \n",
       "1                1              2           2          1                  97   \n",
       "8                2              2           2          2                  97   \n",
       "14               2              2           2          2                  97   \n",
       "15               2              2           2          1                  97   \n",
       "...            ...            ...         ...        ...                 ...   \n",
       "11265494         2              2           2          2                  97   \n",
       "11265878         2              2           2         99                   1   \n",
       "11300936         2              2           2          2                  97   \n",
       "11321837         2              2           2          2                  97   \n",
       "11321838         2              2           2          2                  97   \n",
       "\n",
       "          UCI  \n",
       "0          97  \n",
       "1           1  \n",
       "8          97  \n",
       "14         97  \n",
       "15         97  \n",
       "...       ...  \n",
       "11265494   97  \n",
       "11265878    2  \n",
       "11300936    2  \n",
       "11321837    2  \n",
       "11321838    2  \n",
       "\n",
       "[3044603 rows x 30 columns]>"
      ]
     },
     "execution_count": 23,
     "metadata": {},
     "output_type": "execute_result"
    }
   ],
   "source": [
    "Data2020updateFil.head"
   ]
  },
  {
   "cell_type": "code",
   "execution_count": 28,
   "id": "0d9b2649",
   "metadata": {},
   "outputs": [],
   "source": [
    "data2020 = pd.read_csv(\"Data2020CovidMex1.csv\")"
   ]
  },
  {
   "cell_type": "code",
   "execution_count": 29,
   "id": "66fea641",
   "metadata": {},
   "outputs": [],
   "source": [
    "Data2020updfinal = [data2020, Data2020updateFil] "
   ]
  },
  {
   "cell_type": "code",
   "execution_count": 30,
   "id": "e6e6fe93",
   "metadata": {},
   "outputs": [],
   "source": [
    "Data2020updfinal1 = pd.concat(Data2020updfinal)"
   ]
  },
  {
   "cell_type": "code",
   "execution_count": 31,
   "id": "7f312837",
   "metadata": {},
   "outputs": [
    {
     "data": {
      "text/plain": [
       "(15129496, 30)"
      ]
     },
     "execution_count": 31,
     "metadata": {},
     "output_type": "execute_result"
    }
   ],
   "source": [
    "Data2020updfinal1.shape"
   ]
  },
  {
   "cell_type": "code",
   "execution_count": 32,
   "id": "47e16281",
   "metadata": {},
   "outputs": [
    {
     "data": {
      "text/plain": [
       "<bound method NDFrame.head of          FECHA_ACTUALIZACION ID_REGISTRO  SECTOR  ENTIDAD_UM  SEXO  \\\n",
       "0                 2021-02-01      z482b8      12           9     2   \n",
       "1                 2021-02-01      z49a69      12          23     1   \n",
       "2                 2021-02-01      z33a15      12          12     2   \n",
       "3                 2021-02-01      zzcda2      12           2     1   \n",
       "4                 2021-02-01      z4f06b       6          22     2   \n",
       "...                      ...         ...     ...         ...   ...   \n",
       "11265494          2021-11-01      c5ca62       9           9     2   \n",
       "11265878          2021-11-01      be1843      12           2     1   \n",
       "11300936          2021-11-01      4ca9bb       3          25     2   \n",
       "11321837          2021-11-01      c5fafd       4           9     1   \n",
       "11321838          2021-11-01      a6276c       4           9     2   \n",
       "\n",
       "          ENTIDAD_RES  MUNICIPIO_RES  TIPO_PACIENTE FECHA_INGRESO  \\\n",
       "0                   9             12              1    2020-10-16   \n",
       "1                  23              4              2    2020-07-20   \n",
       "2                  12             29              1    2020-08-19   \n",
       "3                   2              4              1    2020-03-03   \n",
       "4                  22             14              1    2020-08-31   \n",
       "...               ...            ...            ...           ...   \n",
       "11265494            9              7              1    2020-12-31   \n",
       "11265878            2              4              2    2020-12-27   \n",
       "11300936           25              6              2    2020-11-09   \n",
       "11321837            9             15              2    2020-11-16   \n",
       "11321838            9             13              2    2020-10-09   \n",
       "\n",
       "         FECHA_SINTOMAS  ... INMUSUPR  HIPERTENSION  OTRA_COM  CARDIOVASCULAR  \\\n",
       "0            2020-10-16  ...        2             2         2               2   \n",
       "1            2020-07-17  ...        2             1         2               2   \n",
       "2            2020-08-17  ...        2             2         2               2   \n",
       "3            2020-03-01  ...        2             2         2               2   \n",
       "4            2020-08-26  ...        2             2         2               2   \n",
       "...                 ...  ...      ...           ...       ...             ...   \n",
       "11265494     2020-12-25  ...        2             2         2               2   \n",
       "11265878     2020-12-24  ...        2             1         2               2   \n",
       "11300936     2020-11-02  ...        2             2         2               2   \n",
       "11321837     2020-11-16  ...        2             2         2               2   \n",
       "11321838     2020-10-01  ...        2             2         2               2   \n",
       "\n",
       "          OBESIDAD  RENAL_CRONICA  TABAQUISMO  OTRO_CASO  RESULTADO_ANTIGENO  \\\n",
       "0                2              2           2          2                  97   \n",
       "1                1              2           2          1                  97   \n",
       "2                2              2           2          2                  97   \n",
       "3                2              2           2          1                  97   \n",
       "4                2              2           2          2                  97   \n",
       "...            ...            ...         ...        ...                 ...   \n",
       "11265494         2              2           2          2                  97   \n",
       "11265878         2              2           2         99                   1   \n",
       "11300936         2              2           2          2                  97   \n",
       "11321837         2              2           2          2                  97   \n",
       "11321838         2              2           2          2                  97   \n",
       "\n",
       "          UCI  \n",
       "0          97  \n",
       "1           1  \n",
       "2          97  \n",
       "3          97  \n",
       "4          97  \n",
       "...       ...  \n",
       "11265494   97  \n",
       "11265878    2  \n",
       "11300936    2  \n",
       "11321837    2  \n",
       "11321838    2  \n",
       "\n",
       "[15129496 rows x 30 columns]>"
      ]
     },
     "execution_count": 32,
     "metadata": {},
     "output_type": "execute_result"
    }
   ],
   "source": [
    "Data2020updfinal1.head"
   ]
  },
  {
   "cell_type": "code",
   "execution_count": 33,
   "id": "37871913",
   "metadata": {},
   "outputs": [
    {
     "data": {
      "text/plain": [
       "15129496"
      ]
     },
     "execution_count": 33,
     "metadata": {},
     "output_type": "execute_result"
    }
   ],
   "source": [
    "12084893 + 3044603"
   ]
  },
  {
   "cell_type": "code",
   "execution_count": 34,
   "id": "3bf04c3b",
   "metadata": {},
   "outputs": [],
   "source": [
    "Data2020updfinal1.to_csv ('Data2020CovidMexupdate1.csv', index = False, header=True)"
   ]
  },
  {
   "cell_type": "code",
   "execution_count": 35,
   "id": "7bffb927",
   "metadata": {},
   "outputs": [],
   "source": [
    "dataoctF1 = dataoct[dataoct[\"FECHA_INGRESO\"].str.contains(\"2020\")==False]"
   ]
  },
  {
   "cell_type": "code",
   "execution_count": 36,
   "id": "0bbc9726",
   "metadata": {},
   "outputs": [],
   "source": [
    "datanovF1 = dataoct[dataoct[\"FECHA_INGRESO\"].str.contains(\"2020\")==False]"
   ]
  },
  {
   "cell_type": "code",
   "execution_count": 37,
   "id": "806250e2",
   "metadata": {},
   "outputs": [],
   "source": [
    "Dataframes2021update = [dataoctF1, datanovF1] "
   ]
  },
  {
   "cell_type": "code",
   "execution_count": 38,
   "id": "a7fef6e2",
   "metadata": {},
   "outputs": [],
   "source": [
    "Data2021update = pd.concat(Dataframes2021update)"
   ]
  },
  {
   "cell_type": "code",
   "execution_count": 39,
   "id": "26093cf3",
   "metadata": {},
   "outputs": [
    {
     "data": {
      "text/plain": [
       "(13826000, 31)"
      ]
     },
     "execution_count": 39,
     "metadata": {},
     "output_type": "execute_result"
    }
   ],
   "source": [
    "Data2021update.shape"
   ]
  },
  {
   "cell_type": "code",
   "execution_count": 40,
   "id": "4d362260",
   "metadata": {},
   "outputs": [],
   "source": [
    "Data2021updateFil = Data2021update[Data2021update['CLASIFICACION_FINAL'] < 4]"
   ]
  },
  {
   "cell_type": "code",
   "execution_count": 41,
   "id": "890dbf1a",
   "metadata": {},
   "outputs": [
    {
     "data": {
      "text/plain": [
       "3    3982296\n",
       "1     310500\n",
       "2       6782\n",
       "Name: CLASIFICACION_FINAL, dtype: int64"
      ]
     },
     "execution_count": 41,
     "metadata": {},
     "output_type": "execute_result"
    }
   ],
   "source": [
    "Data2021updateFil['CLASIFICACION_FINAL'].value_counts()"
   ]
  },
  {
   "cell_type": "code",
   "execution_count": 42,
   "id": "a2da3460",
   "metadata": {},
   "outputs": [],
   "source": [
    "Data2021updateFil = Data2021updateFil.drop(['CLASIFICACION_FINAL'],axis=1)"
   ]
  },
  {
   "cell_type": "code",
   "execution_count": 43,
   "id": "43dd9273",
   "metadata": {},
   "outputs": [
    {
     "data": {
      "text/plain": [
       "(4299578, 30)"
      ]
     },
     "execution_count": 43,
     "metadata": {},
     "output_type": "execute_result"
    }
   ],
   "source": [
    "Data2021updateFil.shape"
   ]
  },
  {
   "cell_type": "code",
   "execution_count": 50,
   "id": "dbe9c24e",
   "metadata": {},
   "outputs": [
    {
     "data": {
      "text/plain": [
       "<bound method NDFrame.head of          FECHA_ACTUALIZACION ID_REGISTRO  SECTOR  ENTIDAD_UM  SEXO  \\\n",
       "179               2021-10-01      1009d6      12          30     1   \n",
       "189               2021-10-01      0f6295       6          24     1   \n",
       "5807              2021-10-01      1333b7      12          16     2   \n",
       "8296              2021-10-01      0147f3      12          30     2   \n",
       "8949              2021-10-01      0658cb      12          30     1   \n",
       "...                      ...         ...     ...         ...   ...   \n",
       "10702274          2021-10-01     m1da97b      12          15     1   \n",
       "10702307          2021-10-01     m07a27d      12          15     1   \n",
       "10702316          2021-10-01     m1d64ee      12          15     2   \n",
       "10702326          2021-10-01     m182a4e      12          15     1   \n",
       "10702331          2021-10-01     m147705      12          15     2   \n",
       "\n",
       "          ENTIDAD_RES  MUNICIPIO_RES  TIPO_PACIENTE FECHA_INGRESO  \\\n",
       "179                30             85              1    2021-02-17   \n",
       "189                24             28              1    2021-01-29   \n",
       "5807               16             66              2    2021-01-21   \n",
       "8296               30             28              1    2021-01-28   \n",
       "8949               30            193              1    2021-01-29   \n",
       "...               ...            ...            ...           ...   \n",
       "10702274           15            122              1    2021-09-29   \n",
       "10702307           15            122              1    2021-09-29   \n",
       "10702316           15            999              1    2021-09-29   \n",
       "10702326           15            999              1    2021-09-29   \n",
       "10702331           15            122              1    2021-09-29   \n",
       "\n",
       "         FECHA_SINTOMAS  ... INMUSUPR  HIPERTENSION  OTRA_COM  CARDIOVASCULAR  \\\n",
       "179          2021-02-14  ...        2             2         2               2   \n",
       "189          2021-01-27  ...        2             2         1               1   \n",
       "5807         2021-01-17  ...        2             1         2               2   \n",
       "8296         2021-01-26  ...        2             2         2               2   \n",
       "8949         2021-01-25  ...        2             2         2               2   \n",
       "...                 ...  ...      ...           ...       ...             ...   \n",
       "10702274     2021-09-29  ...        2             2        98               2   \n",
       "10702307     2021-09-29  ...        2             2        98               2   \n",
       "10702316     2021-09-29  ...        2             2        98               2   \n",
       "10702326     2021-09-29  ...        2             2        98               2   \n",
       "10702331     2021-09-29  ...        2             2        98               2   \n",
       "\n",
       "          OBESIDAD  RENAL_CRONICA  TABAQUISMO  OTRO_CASO  RESULTADO_ANTIGENO  \\\n",
       "179              2              2           2          2                  97   \n",
       "189              2              2           2         99                  97   \n",
       "5807             1              2           2          2                  97   \n",
       "8296             1              2           2          2                  97   \n",
       "8949             2              2           2          2                  97   \n",
       "...            ...            ...         ...        ...                 ...   \n",
       "10702274         2              2           2         99                   1   \n",
       "10702307         2              2           2         99                   1   \n",
       "10702316         2              2           2         99                   1   \n",
       "10702326         2              2           2         99                   1   \n",
       "10702331         2              2           2         99                   1   \n",
       "\n",
       "          UCI  \n",
       "179        97  \n",
       "189        97  \n",
       "5807        2  \n",
       "8296       97  \n",
       "8949       97  \n",
       "...       ...  \n",
       "10702274   97  \n",
       "10702307   97  \n",
       "10702316   97  \n",
       "10702326   97  \n",
       "10702331   97  \n",
       "\n",
       "[4299578 rows x 30 columns]>"
      ]
     },
     "execution_count": 50,
     "metadata": {},
     "output_type": "execute_result"
    }
   ],
   "source": [
    "Data2021updateFil.head"
   ]
  },
  {
   "cell_type": "code",
   "execution_count": null,
   "id": "b1610423",
   "metadata": {},
   "outputs": [],
   "source": []
  },
  {
   "cell_type": "code",
   "execution_count": 44,
   "id": "5818a427",
   "metadata": {},
   "outputs": [],
   "source": [
    "data2021 = pd.read_csv(\"Data2021CovidMex.csv\")"
   ]
  },
  {
   "cell_type": "code",
   "execution_count": 46,
   "id": "f351e4cd",
   "metadata": {},
   "outputs": [
    {
     "data": {
      "text/plain": [
       "(7636892, 30)"
      ]
     },
     "execution_count": 46,
     "metadata": {},
     "output_type": "execute_result"
    }
   ],
   "source": [
    "data2021.shape"
   ]
  },
  {
   "cell_type": "code",
   "execution_count": 45,
   "id": "41a6175b",
   "metadata": {},
   "outputs": [],
   "source": [
    "Data2021updfinal = [data2021, Data2021updateFil] "
   ]
  },
  {
   "cell_type": "code",
   "execution_count": 47,
   "id": "32a47911",
   "metadata": {},
   "outputs": [],
   "source": [
    "Data2021updfinal1 = pd.concat(Data2021updfinal)"
   ]
  },
  {
   "cell_type": "code",
   "execution_count": 48,
   "id": "2fcc0c30",
   "metadata": {},
   "outputs": [
    {
     "data": {
      "text/plain": [
       "(11936470, 30)"
      ]
     },
     "execution_count": 48,
     "metadata": {},
     "output_type": "execute_result"
    }
   ],
   "source": [
    "Data2021updfinal1.shape"
   ]
  },
  {
   "cell_type": "code",
   "execution_count": 49,
   "id": "001c027b",
   "metadata": {},
   "outputs": [
    {
     "data": {
      "text/plain": [
       "11936470"
      ]
     },
     "execution_count": 49,
     "metadata": {},
     "output_type": "execute_result"
    }
   ],
   "source": [
    "4299578 + 7636892"
   ]
  },
  {
   "cell_type": "code",
   "execution_count": 52,
   "id": "545a4c91",
   "metadata": {},
   "outputs": [
    {
     "data": {
      "text/plain": [
       "<bound method NDFrame.head of          FECHA_ACTUALIZACION ID_REGISTRO  SECTOR  ENTIDAD_UM  SEXO  \\\n",
       "0                 2021-02-01      1333b7      12          16     2   \n",
       "1                 2021-02-01      048d29      12          27     1   \n",
       "2                 2021-02-01      09bf6a       6          24     2   \n",
       "3                 2021-02-01      083415      12           7     2   \n",
       "4                 2021-02-01      13928e      12          14     1   \n",
       "...                      ...         ...     ...         ...   ...   \n",
       "10702274          2021-10-01     m1da97b      12          15     1   \n",
       "10702307          2021-10-01     m07a27d      12          15     1   \n",
       "10702316          2021-10-01     m1d64ee      12          15     2   \n",
       "10702326          2021-10-01     m182a4e      12          15     1   \n",
       "10702331          2021-10-01     m147705      12          15     2   \n",
       "\n",
       "          ENTIDAD_RES  MUNICIPIO_RES  TIPO_PACIENTE FECHA_INGRESO  \\\n",
       "0                  16             66              2    2021-01-21   \n",
       "1                  27              5              1    2021-01-05   \n",
       "2                  24             13              1    2021-01-09   \n",
       "3                   7             46              2    2021-01-16   \n",
       "4                  14             39              1    2021-01-29   \n",
       "...               ...            ...            ...           ...   \n",
       "10702274           15            122              1    2021-09-29   \n",
       "10702307           15            122              1    2021-09-29   \n",
       "10702316           15            999              1    2021-09-29   \n",
       "10702326           15            999              1    2021-09-29   \n",
       "10702331           15            122              1    2021-09-29   \n",
       "\n",
       "         FECHA_SINTOMAS  ... INMUSUPR  HIPERTENSION  OTRA_COM  CARDIOVASCULAR  \\\n",
       "0            2021-01-17  ...        2             1         2               2   \n",
       "1            2021-01-01  ...        2             2         2               2   \n",
       "2            2021-01-08  ...        2             2         2               2   \n",
       "3            2021-01-16  ...        2             1         2               2   \n",
       "4            2021-01-25  ...        2             2         2               2   \n",
       "...                 ...  ...      ...           ...       ...             ...   \n",
       "10702274     2021-09-29  ...        2             2        98               2   \n",
       "10702307     2021-09-29  ...        2             2        98               2   \n",
       "10702316     2021-09-29  ...        2             2        98               2   \n",
       "10702326     2021-09-29  ...        2             2        98               2   \n",
       "10702331     2021-09-29  ...        2             2        98               2   \n",
       "\n",
       "          OBESIDAD  RENAL_CRONICA  TABAQUISMO  OTRO_CASO  RESULTADO_ANTIGENO  \\\n",
       "0                1              2           2          2                  97   \n",
       "1                1              2           2          1                  97   \n",
       "2                2              2           2          1                  97   \n",
       "3                2              1           2          2                  97   \n",
       "4                2              2           2          1                  97   \n",
       "...            ...            ...         ...        ...                 ...   \n",
       "10702274         2              2           2         99                   1   \n",
       "10702307         2              2           2         99                   1   \n",
       "10702316         2              2           2         99                   1   \n",
       "10702326         2              2           2         99                   1   \n",
       "10702331         2              2           2         99                   1   \n",
       "\n",
       "          UCI  \n",
       "0           2  \n",
       "1          97  \n",
       "2          97  \n",
       "3           2  \n",
       "4          97  \n",
       "...       ...  \n",
       "10702274   97  \n",
       "10702307   97  \n",
       "10702316   97  \n",
       "10702326   97  \n",
       "10702331   97  \n",
       "\n",
       "[11936470 rows x 30 columns]>"
      ]
     },
     "execution_count": 52,
     "metadata": {},
     "output_type": "execute_result"
    }
   ],
   "source": [
    "Data2021updfinal1.head"
   ]
  },
  {
   "cell_type": "code",
   "execution_count": 54,
   "id": "b0c4b16f",
   "metadata": {},
   "outputs": [
    {
     "data": {
      "text/plain": [
       "2021-01-11    205574\n",
       "2021-01-12    193395\n",
       "2021-01-18    191072\n",
       "2021-01-19    186383\n",
       "2021-01-05    185983\n",
       "               ...  \n",
       "2021-05-09      4667\n",
       "2021-05-16      4470\n",
       "2021-09-26      4396\n",
       "2021-06-06      4168\n",
       "2021-10-01        34\n",
       "Name: FECHA_INGRESO, Length: 274, dtype: int64"
      ]
     },
     "execution_count": 54,
     "metadata": {},
     "output_type": "execute_result"
    }
   ],
   "source": [
    "Data2021updfinal1[\"FECHA_INGRESO\"].value_counts()"
   ]
  },
  {
   "cell_type": "code",
   "execution_count": 51,
   "id": "c9198cb0",
   "metadata": {},
   "outputs": [],
   "source": [
    "Data2021updfinal1.to_csv ('Data2021CovidMexupdate1.csv', index = False, header=True)"
   ]
  },
  {
   "cell_type": "code",
   "execution_count": null,
   "id": "57bb3339",
   "metadata": {},
   "outputs": [],
   "source": []
  },
  {
   "cell_type": "code",
   "execution_count": null,
   "id": "6d8f2a0d",
   "metadata": {},
   "outputs": [],
   "source": []
  },
  {
   "cell_type": "code",
   "execution_count": 7,
   "id": "48b7e191",
   "metadata": {},
   "outputs": [],
   "source": [
    "datam = pd.read_csv(\"210301COVID19MEXICO.csv\")"
   ]
  },
  {
   "cell_type": "code",
   "execution_count": 11,
   "id": "247a5e18",
   "metadata": {},
   "outputs": [
    {
     "ename": "KeyError",
     "evalue": "\"['ORIGEN' 'ENTIDAD_NAC' 'PAIS_NACIONALIDAD' 'PAIS_ORIGEN' 'MIGRANTE'] not found in axis\"",
     "output_type": "error",
     "traceback": [
      "\u001b[1;31m---------------------------------------------------------------------------\u001b[0m",
      "\u001b[1;31mKeyError\u001b[0m                                  Traceback (most recent call last)",
      "\u001b[1;32m<ipython-input-11-63b4720a33e4>\u001b[0m in \u001b[0;36m<module>\u001b[1;34m\u001b[0m\n\u001b[1;32m----> 1\u001b[1;33m \u001b[0mdatam\u001b[0m \u001b[1;33m=\u001b[0m \u001b[0mdatam\u001b[0m\u001b[1;33m.\u001b[0m\u001b[0mdrop\u001b[0m\u001b[1;33m(\u001b[0m\u001b[1;33m[\u001b[0m\u001b[1;34m'ORIGEN'\u001b[0m\u001b[1;33m,\u001b[0m\u001b[1;34m'ENTIDAD_NAC'\u001b[0m\u001b[1;33m,\u001b[0m\u001b[1;34m'PAIS_NACIONALIDAD'\u001b[0m\u001b[1;33m,\u001b[0m\u001b[1;34m'PAIS_ORIGEN'\u001b[0m\u001b[1;33m,\u001b[0m\u001b[1;34m'MIGRANTE'\u001b[0m\u001b[1;33m]\u001b[0m\u001b[1;33m,\u001b[0m\u001b[0maxis\u001b[0m\u001b[1;33m=\u001b[0m\u001b[1;36m1\u001b[0m\u001b[1;33m)\u001b[0m\u001b[1;33m\u001b[0m\u001b[1;33m\u001b[0m\u001b[0m\n\u001b[0m",
      "\u001b[1;32m~\\AppData\\Roaming\\Python\\Python38\\site-packages\\pandas\\util\\_decorators.py\u001b[0m in \u001b[0;36mwrapper\u001b[1;34m(*args, **kwargs)\u001b[0m\n\u001b[0;32m    309\u001b[0m                     \u001b[0mstacklevel\u001b[0m\u001b[1;33m=\u001b[0m\u001b[0mstacklevel\u001b[0m\u001b[1;33m,\u001b[0m\u001b[1;33m\u001b[0m\u001b[1;33m\u001b[0m\u001b[0m\n\u001b[0;32m    310\u001b[0m                 )\n\u001b[1;32m--> 311\u001b[1;33m             \u001b[1;32mreturn\u001b[0m \u001b[0mfunc\u001b[0m\u001b[1;33m(\u001b[0m\u001b[1;33m*\u001b[0m\u001b[0margs\u001b[0m\u001b[1;33m,\u001b[0m \u001b[1;33m**\u001b[0m\u001b[0mkwargs\u001b[0m\u001b[1;33m)\u001b[0m\u001b[1;33m\u001b[0m\u001b[1;33m\u001b[0m\u001b[0m\n\u001b[0m\u001b[0;32m    312\u001b[0m \u001b[1;33m\u001b[0m\u001b[0m\n\u001b[0;32m    313\u001b[0m         \u001b[1;32mreturn\u001b[0m \u001b[0mwrapper\u001b[0m\u001b[1;33m\u001b[0m\u001b[1;33m\u001b[0m\u001b[0m\n",
      "\u001b[1;32m~\\AppData\\Roaming\\Python\\Python38\\site-packages\\pandas\\core\\frame.py\u001b[0m in \u001b[0;36mdrop\u001b[1;34m(self, labels, axis, index, columns, level, inplace, errors)\u001b[0m\n\u001b[0;32m   4899\u001b[0m                 \u001b[0mweight\u001b[0m  \u001b[1;36m1.0\u001b[0m     \u001b[1;36m0.8\u001b[0m\u001b[1;33m\u001b[0m\u001b[1;33m\u001b[0m\u001b[0m\n\u001b[0;32m   4900\u001b[0m         \"\"\"\n\u001b[1;32m-> 4901\u001b[1;33m         return super().drop(\n\u001b[0m\u001b[0;32m   4902\u001b[0m             \u001b[0mlabels\u001b[0m\u001b[1;33m=\u001b[0m\u001b[0mlabels\u001b[0m\u001b[1;33m,\u001b[0m\u001b[1;33m\u001b[0m\u001b[1;33m\u001b[0m\u001b[0m\n\u001b[0;32m   4903\u001b[0m             \u001b[0maxis\u001b[0m\u001b[1;33m=\u001b[0m\u001b[0maxis\u001b[0m\u001b[1;33m,\u001b[0m\u001b[1;33m\u001b[0m\u001b[1;33m\u001b[0m\u001b[0m\n",
      "\u001b[1;32m~\\AppData\\Roaming\\Python\\Python38\\site-packages\\pandas\\core\\generic.py\u001b[0m in \u001b[0;36mdrop\u001b[1;34m(self, labels, axis, index, columns, level, inplace, errors)\u001b[0m\n\u001b[0;32m   4145\u001b[0m         \u001b[1;32mfor\u001b[0m \u001b[0maxis\u001b[0m\u001b[1;33m,\u001b[0m \u001b[0mlabels\u001b[0m \u001b[1;32min\u001b[0m \u001b[0maxes\u001b[0m\u001b[1;33m.\u001b[0m\u001b[0mitems\u001b[0m\u001b[1;33m(\u001b[0m\u001b[1;33m)\u001b[0m\u001b[1;33m:\u001b[0m\u001b[1;33m\u001b[0m\u001b[1;33m\u001b[0m\u001b[0m\n\u001b[0;32m   4146\u001b[0m             \u001b[1;32mif\u001b[0m \u001b[0mlabels\u001b[0m \u001b[1;32mis\u001b[0m \u001b[1;32mnot\u001b[0m \u001b[1;32mNone\u001b[0m\u001b[1;33m:\u001b[0m\u001b[1;33m\u001b[0m\u001b[1;33m\u001b[0m\u001b[0m\n\u001b[1;32m-> 4147\u001b[1;33m                 \u001b[0mobj\u001b[0m \u001b[1;33m=\u001b[0m \u001b[0mobj\u001b[0m\u001b[1;33m.\u001b[0m\u001b[0m_drop_axis\u001b[0m\u001b[1;33m(\u001b[0m\u001b[0mlabels\u001b[0m\u001b[1;33m,\u001b[0m \u001b[0maxis\u001b[0m\u001b[1;33m,\u001b[0m \u001b[0mlevel\u001b[0m\u001b[1;33m=\u001b[0m\u001b[0mlevel\u001b[0m\u001b[1;33m,\u001b[0m \u001b[0merrors\u001b[0m\u001b[1;33m=\u001b[0m\u001b[0merrors\u001b[0m\u001b[1;33m)\u001b[0m\u001b[1;33m\u001b[0m\u001b[1;33m\u001b[0m\u001b[0m\n\u001b[0m\u001b[0;32m   4148\u001b[0m \u001b[1;33m\u001b[0m\u001b[0m\n\u001b[0;32m   4149\u001b[0m         \u001b[1;32mif\u001b[0m \u001b[0minplace\u001b[0m\u001b[1;33m:\u001b[0m\u001b[1;33m\u001b[0m\u001b[1;33m\u001b[0m\u001b[0m\n",
      "\u001b[1;32m~\\AppData\\Roaming\\Python\\Python38\\site-packages\\pandas\\core\\generic.py\u001b[0m in \u001b[0;36m_drop_axis\u001b[1;34m(self, labels, axis, level, errors)\u001b[0m\n\u001b[0;32m   4180\u001b[0m                 \u001b[0mnew_axis\u001b[0m \u001b[1;33m=\u001b[0m \u001b[0maxis\u001b[0m\u001b[1;33m.\u001b[0m\u001b[0mdrop\u001b[0m\u001b[1;33m(\u001b[0m\u001b[0mlabels\u001b[0m\u001b[1;33m,\u001b[0m \u001b[0mlevel\u001b[0m\u001b[1;33m=\u001b[0m\u001b[0mlevel\u001b[0m\u001b[1;33m,\u001b[0m \u001b[0merrors\u001b[0m\u001b[1;33m=\u001b[0m\u001b[0merrors\u001b[0m\u001b[1;33m)\u001b[0m\u001b[1;33m\u001b[0m\u001b[1;33m\u001b[0m\u001b[0m\n\u001b[0;32m   4181\u001b[0m             \u001b[1;32melse\u001b[0m\u001b[1;33m:\u001b[0m\u001b[1;33m\u001b[0m\u001b[1;33m\u001b[0m\u001b[0m\n\u001b[1;32m-> 4182\u001b[1;33m                 \u001b[0mnew_axis\u001b[0m \u001b[1;33m=\u001b[0m \u001b[0maxis\u001b[0m\u001b[1;33m.\u001b[0m\u001b[0mdrop\u001b[0m\u001b[1;33m(\u001b[0m\u001b[0mlabels\u001b[0m\u001b[1;33m,\u001b[0m \u001b[0merrors\u001b[0m\u001b[1;33m=\u001b[0m\u001b[0merrors\u001b[0m\u001b[1;33m)\u001b[0m\u001b[1;33m\u001b[0m\u001b[1;33m\u001b[0m\u001b[0m\n\u001b[0m\u001b[0;32m   4183\u001b[0m             \u001b[0mresult\u001b[0m \u001b[1;33m=\u001b[0m \u001b[0mself\u001b[0m\u001b[1;33m.\u001b[0m\u001b[0mreindex\u001b[0m\u001b[1;33m(\u001b[0m\u001b[1;33m**\u001b[0m\u001b[1;33m{\u001b[0m\u001b[0maxis_name\u001b[0m\u001b[1;33m:\u001b[0m \u001b[0mnew_axis\u001b[0m\u001b[1;33m}\u001b[0m\u001b[1;33m)\u001b[0m\u001b[1;33m\u001b[0m\u001b[1;33m\u001b[0m\u001b[0m\n\u001b[0;32m   4184\u001b[0m \u001b[1;33m\u001b[0m\u001b[0m\n",
      "\u001b[1;32m~\\AppData\\Roaming\\Python\\Python38\\site-packages\\pandas\\core\\indexes\\base.py\u001b[0m in \u001b[0;36mdrop\u001b[1;34m(self, labels, errors)\u001b[0m\n\u001b[0;32m   6016\u001b[0m         \u001b[1;32mif\u001b[0m \u001b[0mmask\u001b[0m\u001b[1;33m.\u001b[0m\u001b[0many\u001b[0m\u001b[1;33m(\u001b[0m\u001b[1;33m)\u001b[0m\u001b[1;33m:\u001b[0m\u001b[1;33m\u001b[0m\u001b[1;33m\u001b[0m\u001b[0m\n\u001b[0;32m   6017\u001b[0m             \u001b[1;32mif\u001b[0m \u001b[0merrors\u001b[0m \u001b[1;33m!=\u001b[0m \u001b[1;34m\"ignore\"\u001b[0m\u001b[1;33m:\u001b[0m\u001b[1;33m\u001b[0m\u001b[1;33m\u001b[0m\u001b[0m\n\u001b[1;32m-> 6018\u001b[1;33m                 \u001b[1;32mraise\u001b[0m \u001b[0mKeyError\u001b[0m\u001b[1;33m(\u001b[0m\u001b[1;34mf\"{labels[mask]} not found in axis\"\u001b[0m\u001b[1;33m)\u001b[0m\u001b[1;33m\u001b[0m\u001b[1;33m\u001b[0m\u001b[0m\n\u001b[0m\u001b[0;32m   6019\u001b[0m             \u001b[0mindexer\u001b[0m \u001b[1;33m=\u001b[0m \u001b[0mindexer\u001b[0m\u001b[1;33m[\u001b[0m\u001b[1;33m~\u001b[0m\u001b[0mmask\u001b[0m\u001b[1;33m]\u001b[0m\u001b[1;33m\u001b[0m\u001b[1;33m\u001b[0m\u001b[0m\n\u001b[0;32m   6020\u001b[0m         \u001b[1;32mreturn\u001b[0m \u001b[0mself\u001b[0m\u001b[1;33m.\u001b[0m\u001b[0mdelete\u001b[0m\u001b[1;33m(\u001b[0m\u001b[0mindexer\u001b[0m\u001b[1;33m)\u001b[0m\u001b[1;33m\u001b[0m\u001b[1;33m\u001b[0m\u001b[0m\n",
      "\u001b[1;31mKeyError\u001b[0m: \"['ORIGEN' 'ENTIDAD_NAC' 'PAIS_NACIONALIDAD' 'PAIS_ORIGEN' 'MIGRANTE'] not found in axis\""
     ]
    }
   ],
   "source": [
    "datam = datam.drop(['ORIGEN','ENTIDAD_NAC','PAIS_NACIONALIDAD','PAIS_ORIGEN','MIGRANTE'],axis=1)"
   ]
  },
  {
   "cell_type": "code",
   "execution_count": null,
   "id": "e70bef7c",
   "metadata": {},
   "outputs": [],
   "source": []
  },
  {
   "cell_type": "code",
   "execution_count": 10,
   "id": "5367d4e7",
   "metadata": {},
   "outputs": [],
   "source": [
    "dataab = pd.read_csv(\"210401COVID19MEXICO.csv\")"
   ]
  },
  {
   "cell_type": "code",
   "execution_count": 12,
   "id": "cf7ae223",
   "metadata": {},
   "outputs": [],
   "source": [
    "datamab = dataab.drop(['ORIGEN','ENTIDAD_NAC','PAIS_NACIONALIDAD','PAIS_ORIGEN','MIGRANTE'],axis=1)"
   ]
  },
  {
   "cell_type": "code",
   "execution_count": 13,
   "id": "0b9a3a5c",
   "metadata": {},
   "outputs": [],
   "source": [
    "datammy = pd.read_csv(\"210501COVID19MEXICO.csv\")"
   ]
  },
  {
   "cell_type": "code",
   "execution_count": 14,
   "id": "3b59a649",
   "metadata": {},
   "outputs": [],
   "source": [
    "datammy = datammy.drop(['ORIGEN','ENTIDAD_NAC','PAIS_NACIONALIDAD','PAIS_ORIGEN','MIGRANTE'],axis=1)"
   ]
  },
  {
   "cell_type": "code",
   "execution_count": 15,
   "id": "ed623bec",
   "metadata": {},
   "outputs": [],
   "source": [
    "datamju = pd.read_csv(\"210601COVID19MEXICO.csv\")"
   ]
  },
  {
   "cell_type": "code",
   "execution_count": 16,
   "id": "a965824e",
   "metadata": {},
   "outputs": [],
   "source": [
    "datamju = datamju.drop(['ORIGEN','ENTIDAD_NAC','PAIS_NACIONALIDAD','PAIS_ORIGEN','MIGRANTE'],axis=1)"
   ]
  },
  {
   "cell_type": "code",
   "execution_count": 17,
   "id": "707be57b",
   "metadata": {},
   "outputs": [],
   "source": [
    "datamjul = pd.read_csv(\"210701COVID19MEXICO.csv\")"
   ]
  },
  {
   "cell_type": "code",
   "execution_count": 18,
   "id": "711a82be",
   "metadata": {},
   "outputs": [],
   "source": [
    "datamjul = datamjul.drop(['ORIGEN','ENTIDAD_NAC','PAIS_NACIONALIDAD','PAIS_ORIGEN','MIGRANTE'],axis=1)"
   ]
  },
  {
   "cell_type": "code",
   "execution_count": 19,
   "id": "3cb3c64a",
   "metadata": {},
   "outputs": [],
   "source": [
    "datamago = pd.read_csv(\"210801COVID19MEXICO.csv\")"
   ]
  },
  {
   "cell_type": "code",
   "execution_count": 20,
   "id": "9a5968ff",
   "metadata": {},
   "outputs": [],
   "source": [
    "datamago = datamago.drop(['ORIGEN','ENTIDAD_NAC','PAIS_NACIONALIDAD','PAIS_ORIGEN','MIGRANTE'],axis=1)"
   ]
  },
  {
   "cell_type": "code",
   "execution_count": 51,
   "id": "9deb312c",
   "metadata": {},
   "outputs": [],
   "source": [
    "datamsep = pd.read_csv(\"210901COVID19MEXICO.csv\")"
   ]
  },
  {
   "cell_type": "code",
   "execution_count": 22,
   "id": "07a8d53b",
   "metadata": {},
   "outputs": [],
   "source": [
    "##-c(ORIGEN,ENTIDAD_NAC,PAIS_NACIONALIDAD,PAIS_ORIGEN,MIGRANTE)\n",
    "##'INDIGENA','TOMA_MUESTRA_LAB','RESULTADO_LAB','TOMA_MUESTRA_ANTIGENO','CLASIFICACION_FINAL'\n",
    "datam = datam.drop(['INDIGENA','TOMA_MUESTRA_LAB',\n",
    " 'RESULTADO_LAB','TOMA_MUESTRA_ANTIGENO'],axis=1)"
   ]
  },
  {
   "cell_type": "code",
   "execution_count": 23,
   "id": "2576c923",
   "metadata": {},
   "outputs": [],
   "source": [
    "datamab = datamab.drop(['INDIGENA','TOMA_MUESTRA_LAB',\n",
    " 'RESULTADO_LAB','TOMA_MUESTRA_ANTIGENO'],axis=1)\n"
   ]
  },
  {
   "cell_type": "code",
   "execution_count": 31,
   "id": "fe55f1e9",
   "metadata": {},
   "outputs": [],
   "source": [
    "#dataF = data[~data.FECHA_INGRESO.str.endswith(\"/2021\")]"
   ]
  },
  {
   "cell_type": "code",
   "execution_count": 24,
   "id": "2dff3500",
   "metadata": {},
   "outputs": [],
   "source": [
    "datammy = datammy.drop(['INDIGENA','TOMA_MUESTRA_LAB',\n",
    " 'RESULTADO_LAB','TOMA_MUESTRA_ANTIGENO'],axis=1) "
   ]
  },
  {
   "cell_type": "code",
   "execution_count": 25,
   "id": "1e83f23f",
   "metadata": {},
   "outputs": [],
   "source": [
    "datamju = datamju.drop(['INDIGENA','TOMA_MUESTRA_LAB',\n",
    " 'RESULTADO_LAB','TOMA_MUESTRA_ANTIGENO'],axis=1)"
   ]
  },
  {
   "cell_type": "code",
   "execution_count": 26,
   "id": "20514598",
   "metadata": {},
   "outputs": [],
   "source": [
    "datamjul = datamjul.drop(['INDIGENA','TOMA_MUESTRA_LAB',\n",
    " 'RESULTADO_LAB','TOMA_MUESTRA_ANTIGENO'],axis=1)"
   ]
  },
  {
   "cell_type": "code",
   "execution_count": 27,
   "id": "5b929999",
   "metadata": {},
   "outputs": [],
   "source": [
    "datamago = datamago.drop(['INDIGENA','TOMA_MUESTRA_LAB',\n",
    " 'RESULTADO_LAB','TOMA_MUESTRA_ANTIGENO'],axis=1)"
   ]
  },
  {
   "cell_type": "code",
   "execution_count": 52,
   "id": "ea7c7898",
   "metadata": {},
   "outputs": [],
   "source": [
    "datamsep = datamsep.drop(['INDIGENA','TOMA_MUESTRA_LAB',\n",
    " 'RESULTADO_LAB','TOMA_MUESTRA_ANTIGENO'],axis=1)"
   ]
  },
  {
   "cell_type": "code",
   "execution_count": 53,
   "id": "6e0d7349",
   "metadata": {},
   "outputs": [],
   "source": [
    "datamsep = datamsep.drop(['ORIGEN','ENTIDAD_NAC','PAIS_NACIONALIDAD','PAIS_ORIGEN','MIGRANTE'],axis=1)"
   ]
  },
  {
   "cell_type": "code",
   "execution_count": 29,
   "id": "58c2ef28",
   "metadata": {},
   "outputs": [],
   "source": [
    "#dataF = data[dataF.FECHA_INGRESO.str[-5:] != \"/2021\"]\n",
    "dataF = data[data[\"FECHA_INGRESO\"].str.contains(\"2021\")==False]"
   ]
  },
  {
   "cell_type": "code",
   "execution_count": 30,
   "id": "d8b08ad5",
   "metadata": {},
   "outputs": [
    {
     "data": {
      "text/plain": [
       "(3744902, 31)"
      ]
     },
     "execution_count": 30,
     "metadata": {},
     "output_type": "execute_result"
    }
   ],
   "source": [
    "dataF.shape"
   ]
  },
  {
   "cell_type": "code",
   "execution_count": 72,
   "id": "c87258b2",
   "metadata": {},
   "outputs": [],
   "source": [
    "\n",
    "#~data.FECHA_INGRESO.str.endswith(\"/2021\")"
   ]
  },
  {
   "cell_type": "code",
   "execution_count": 119,
   "id": "1f14056c",
   "metadata": {},
   "outputs": [],
   "source": [
    "#data.loc[data['FECHA_INGRESO'] == \"2020\"]"
   ]
  },
  {
   "cell_type": "code",
   "execution_count": 31,
   "id": "d022ae91",
   "metadata": {},
   "outputs": [],
   "source": [
    "datamaF = datam[datam[\"FECHA_INGRESO\"].str.contains(\"2021\")==False]"
   ]
  },
  {
   "cell_type": "code",
   "execution_count": 41,
   "id": "50d53ee1",
   "metadata": {},
   "outputs": [
    {
     "data": {
      "text/plain": [
       "(3767957, 31)"
      ]
     },
     "execution_count": 41,
     "metadata": {},
     "output_type": "execute_result"
    }
   ],
   "source": [
    "datamaF.shape"
   ]
  },
  {
   "cell_type": "code",
   "execution_count": 32,
   "id": "e9e09b58",
   "metadata": {},
   "outputs": [],
   "source": [
    "dataabrF = datamab[datamab[\"FECHA_INGRESO\"].str.contains(\"2021\")==False]"
   ]
  },
  {
   "cell_type": "code",
   "execution_count": 42,
   "id": "9aa79611",
   "metadata": {},
   "outputs": [
    {
     "data": {
      "text/plain": [
       "(3776736, 31)"
      ]
     },
     "execution_count": 42,
     "metadata": {},
     "output_type": "execute_result"
    }
   ],
   "source": [
    "dataabrF.shape"
   ]
  },
  {
   "cell_type": "code",
   "execution_count": 33,
   "id": "74a55723",
   "metadata": {},
   "outputs": [],
   "source": [
    "datamayF = datammy[datammy[\"FECHA_INGRESO\"].str.contains(\"2021\")==False]"
   ]
  },
  {
   "cell_type": "code",
   "execution_count": 43,
   "id": "9cb46d1d",
   "metadata": {},
   "outputs": [
    {
     "data": {
      "text/plain": [
       "(3783554, 31)"
      ]
     },
     "execution_count": 43,
     "metadata": {},
     "output_type": "execute_result"
    }
   ],
   "source": [
    "datamayF.shape"
   ]
  },
  {
   "cell_type": "code",
   "execution_count": 34,
   "id": "d5bffaac",
   "metadata": {},
   "outputs": [],
   "source": [
    "datajunF = datamju[datamju[\"FECHA_INGRESO\"].str.contains(\"2021\")==False]"
   ]
  },
  {
   "cell_type": "code",
   "execution_count": 44,
   "id": "8d6169da",
   "metadata": {},
   "outputs": [
    {
     "data": {
      "text/plain": [
       "(3785562, 31)"
      ]
     },
     "execution_count": 44,
     "metadata": {},
     "output_type": "execute_result"
    }
   ],
   "source": [
    "datajunF.shape"
   ]
  },
  {
   "cell_type": "code",
   "execution_count": 35,
   "id": "b0cefd4a",
   "metadata": {},
   "outputs": [],
   "source": [
    "datajulF = datamjul[datamjul[\"FECHA_INGRESO\"].str.contains(\"2021\")==False]"
   ]
  },
  {
   "cell_type": "code",
   "execution_count": 45,
   "id": "42247c07",
   "metadata": {},
   "outputs": [
    {
     "data": {
      "text/plain": [
       "(3788282, 31)"
      ]
     },
     "execution_count": 45,
     "metadata": {},
     "output_type": "execute_result"
    }
   ],
   "source": [
    "datajulF.shape"
   ]
  },
  {
   "cell_type": "code",
   "execution_count": 36,
   "id": "265fef3f",
   "metadata": {},
   "outputs": [],
   "source": [
    "dataagoF = datamago[datamago[\"FECHA_INGRESO\"].str.contains(\"2021\")==False]"
   ]
  },
  {
   "cell_type": "code",
   "execution_count": 46,
   "id": "73e52b63",
   "metadata": {},
   "outputs": [
    {
     "data": {
      "text/plain": [
       "(3789016, 31)"
      ]
     },
     "execution_count": 46,
     "metadata": {},
     "output_type": "execute_result"
    }
   ],
   "source": [
    "dataagoF.shape"
   ]
  },
  {
   "cell_type": "code",
   "execution_count": 54,
   "id": "34563e3c",
   "metadata": {},
   "outputs": [],
   "source": [
    "datasepF = datamsep[datamsep[\"FECHA_INGRESO\"].str.contains(\"2021\")==False]"
   ]
  },
  {
   "cell_type": "code",
   "execution_count": 55,
   "id": "c6031520",
   "metadata": {},
   "outputs": [
    {
     "data": {
      "text/plain": [
       "(3789099, 31)"
      ]
     },
     "execution_count": 55,
     "metadata": {},
     "output_type": "execute_result"
    }
   ],
   "source": [
    "datasepF.shape"
   ]
  },
  {
   "cell_type": "code",
   "execution_count": 56,
   "id": "828056cc",
   "metadata": {},
   "outputs": [],
   "source": [
    "Dataframes2020 = [dataF, datamaF, dataabrF, datamayF, datajunF,datajulF,dataagoF, datasepF] "
   ]
  },
  {
   "cell_type": "code",
   "execution_count": 57,
   "id": "08551e56",
   "metadata": {},
   "outputs": [],
   "source": [
    "Data2020 = pd.concat(Dataframes2020)"
   ]
  },
  {
   "cell_type": "code",
   "execution_count": 58,
   "id": "7d3cd38c",
   "metadata": {},
   "outputs": [
    {
     "data": {
      "text/plain": [
       "(30225108, 31)"
      ]
     },
     "execution_count": 58,
     "metadata": {},
     "output_type": "execute_result"
    }
   ],
   "source": [
    "Data2020.shape"
   ]
  },
  {
   "cell_type": "code",
   "execution_count": 59,
   "id": "f2491e58",
   "metadata": {},
   "outputs": [],
   "source": [
    "Data2020Fil = Data2020[Data2020['CLASIFICACION_FINAL'] < 4]"
   ]
  },
  {
   "cell_type": "code",
   "execution_count": 60,
   "id": "b85185c8",
   "metadata": {},
   "outputs": [
    {
     "data": {
      "text/plain": [
       "3    11492010\n",
       "1      533911\n",
       "2       58972\n",
       "Name: CLASIFICACION_FINAL, dtype: int64"
      ]
     },
     "execution_count": 60,
     "metadata": {},
     "output_type": "execute_result"
    }
   ],
   "source": [
    "Data2020Fil['CLASIFICACION_FINAL'].value_counts()"
   ]
  },
  {
   "cell_type": "code",
   "execution_count": 62,
   "id": "41e8594f",
   "metadata": {},
   "outputs": [],
   "source": [
    "Data2020Fil = Data2020Fil.drop(['CLASIFICACION_FINAL'],axis=1)"
   ]
  },
  {
   "cell_type": "code",
   "execution_count": 63,
   "id": "201e1f2d",
   "metadata": {},
   "outputs": [
    {
     "data": {
      "text/plain": [
       "(12084893, 30)"
      ]
     },
     "execution_count": 63,
     "metadata": {},
     "output_type": "execute_result"
    }
   ],
   "source": [
    "#Data2020.head\n",
    "Data2020Fil.shape"
   ]
  },
  {
   "cell_type": "code",
   "execution_count": 74,
   "id": "f2ce98e5",
   "metadata": {},
   "outputs": [
    {
     "data": {
      "text/plain": [
       "<bound method NDFrame.head of         FECHA_ACTUALIZACION ID_REGISTRO  SECTOR  ENTIDAD_UM  SEXO  \\\n",
       "0                2021-02-01      z482b8      12           9     2   \n",
       "1                2021-02-01      z49a69      12          23     1   \n",
       "8                2021-02-01      z33a15      12          12     2   \n",
       "12               2021-02-01      zzcda2      12           2     1   \n",
       "14               2021-02-01      z4f06b       6          22     2   \n",
       "...                     ...         ...     ...         ...   ...   \n",
       "9639816          2021-09-01      7fc272      12           9     1   \n",
       "9639876          2021-09-01      e56e47      12           9     2   \n",
       "9693617          2021-09-01      8defd0      12          26     1   \n",
       "9756334          2021-09-01      5f6d07       6           9     2   \n",
       "9772429          2021-09-01      e97148      12           9     1   \n",
       "\n",
       "         ENTIDAD_RES  MUNICIPIO_RES  TIPO_PACIENTE FECHA_INGRESO  \\\n",
       "0                  9             12              1    2020-10-16   \n",
       "1                 23              4              2    2020-07-20   \n",
       "8                 12             29              1    2020-08-19   \n",
       "12                 2              4              1    2020-03-03   \n",
       "14                22             14              1    2020-08-31   \n",
       "...              ...            ...            ...           ...   \n",
       "9639816            9              2              1    2020-12-30   \n",
       "9639876            9              2              1    2020-12-30   \n",
       "9693617           26             42              1    2020-08-23   \n",
       "9756334            9              5              2    2020-12-06   \n",
       "9772429            9              7              1    2020-12-07   \n",
       "\n",
       "        FECHA_SINTOMAS  ... INMUSUPR  HIPERTENSION  OTRA_COM  CARDIOVASCULAR  \\\n",
       "0           2020-10-16  ...        2             2         2               2   \n",
       "1           2020-07-17  ...        2             1         2               2   \n",
       "8           2020-08-17  ...        2             2         2               2   \n",
       "12          2020-03-01  ...        2             2         2               2   \n",
       "14          2020-08-26  ...        2             2         2               2   \n",
       "...                ...  ...      ...           ...       ...             ...   \n",
       "9639816     2020-12-25  ...        2             1         2               2   \n",
       "9639876     2020-12-25  ...        2             2         2               2   \n",
       "9693617     2020-08-19  ...        2             2         2               2   \n",
       "9756334     2020-12-02  ...        2             2         2               2   \n",
       "9772429     2020-12-07  ...        2             2         2               2   \n",
       "\n",
       "         OBESIDAD  RENAL_CRONICA  TABAQUISMO  OTRO_CASO  RESULTADO_ANTIGENO  \\\n",
       "0               2              2           2          2                  97   \n",
       "1               1              2           2          1                  97   \n",
       "8               2              2           2          2                  97   \n",
       "12              2              2           2          1                  97   \n",
       "14              2              2           2          2                  97   \n",
       "...           ...            ...         ...        ...                 ...   \n",
       "9639816         1              2           1          1                   1   \n",
       "9639876         2              2           2          1                   1   \n",
       "9693617         2              2           2          1                  97   \n",
       "9756334         2              2           2          1                   1   \n",
       "9772429         2              2           2          1                   1   \n",
       "\n",
       "         UCI  \n",
       "0         97  \n",
       "1          1  \n",
       "8         97  \n",
       "12        97  \n",
       "14        97  \n",
       "...      ...  \n",
       "9639816   97  \n",
       "9639876   97  \n",
       "9693617   97  \n",
       "9756334    2  \n",
       "9772429   97  \n",
       "\n",
       "[12084893 rows x 30 columns]>"
      ]
     },
     "execution_count": 74,
     "metadata": {},
     "output_type": "execute_result"
    }
   ],
   "source": [
    "Data2020Fil.head"
   ]
  },
  {
   "cell_type": "code",
   "execution_count": 84,
   "id": "6052d1ce",
   "metadata": {},
   "outputs": [],
   "source": [
    "Data2020Fil.to_csv ('Data2020CovidMex1.csv', index = False, header=True)"
   ]
  },
  {
   "cell_type": "code",
   "execution_count": 65,
   "id": "ded0cc5b",
   "metadata": {},
   "outputs": [],
   "source": [
    "dataF1 = data[data[\"FECHA_INGRESO\"].str.contains(\"2020\")==False]"
   ]
  },
  {
   "cell_type": "code",
   "execution_count": 66,
   "id": "112521de",
   "metadata": {},
   "outputs": [],
   "source": [
    "datamaF1 = datam[datam[\"FECHA_INGRESO\"].str.contains(\"2020\")==False]"
   ]
  },
  {
   "cell_type": "code",
   "execution_count": 67,
   "id": "20a31cca",
   "metadata": {},
   "outputs": [],
   "source": [
    "dataabrF1 = datamab[datamab[\"FECHA_INGRESO\"].str.contains(\"2020\")==False]"
   ]
  },
  {
   "cell_type": "code",
   "execution_count": 68,
   "id": "03ae0175",
   "metadata": {},
   "outputs": [],
   "source": [
    "datamayF1 = datammy[datammy[\"FECHA_INGRESO\"].str.contains(\"2020\")==False]"
   ]
  },
  {
   "cell_type": "code",
   "execution_count": 69,
   "id": "02da8cbb",
   "metadata": {},
   "outputs": [],
   "source": [
    "datajunF1 = datamju[datamju[\"FECHA_INGRESO\"].str.contains(\"2020\")==False]"
   ]
  },
  {
   "cell_type": "code",
   "execution_count": 70,
   "id": "8bbd7f4b",
   "metadata": {},
   "outputs": [],
   "source": [
    "datajulF1 = datamjul[datamjul[\"FECHA_INGRESO\"].str.contains(\"2020\")==False]"
   ]
  },
  {
   "cell_type": "code",
   "execution_count": 71,
   "id": "6cb0d4de",
   "metadata": {},
   "outputs": [],
   "source": [
    "dataagoF1 = datamago[datamago[\"FECHA_INGRESO\"].str.contains(\"2020\")==False]"
   ]
  },
  {
   "cell_type": "code",
   "execution_count": 72,
   "id": "e6b8b1b8",
   "metadata": {},
   "outputs": [],
   "source": [
    "datasepF1 = datamsep[datamsep[\"FECHA_INGRESO\"].str.contains(\"2020\")==False]"
   ]
  },
  {
   "cell_type": "code",
   "execution_count": 73,
   "id": "c99beee4",
   "metadata": {},
   "outputs": [],
   "source": [
    "Dataframes2021 = [dataF1, datamaF1, dataabrF1, datamayF1, datajunF1,datajulF1,dataagoF1, datasepF1] "
   ]
  },
  {
   "cell_type": "code",
   "execution_count": 75,
   "id": "f04f4f58",
   "metadata": {},
   "outputs": [],
   "source": [
    "Data2021 = pd.concat(Dataframes2021)"
   ]
  },
  {
   "cell_type": "code",
   "execution_count": 76,
   "id": "7f0c0679",
   "metadata": {},
   "outputs": [
    {
     "data": {
      "text/plain": [
       "(25587130, 31)"
      ]
     },
     "execution_count": 76,
     "metadata": {},
     "output_type": "execute_result"
    }
   ],
   "source": [
    "Data2021.shape"
   ]
  },
  {
   "cell_type": "code",
   "execution_count": 77,
   "id": "e0a55cd4",
   "metadata": {},
   "outputs": [],
   "source": [
    "Data2021Fil = Data2021[Data2021['CLASIFICACION_FINAL'] < 4]"
   ]
  },
  {
   "cell_type": "code",
   "execution_count": 78,
   "id": "8c6da8e2",
   "metadata": {},
   "outputs": [
    {
     "data": {
      "text/plain": [
       "(7636892, 31)"
      ]
     },
     "execution_count": 78,
     "metadata": {},
     "output_type": "execute_result"
    }
   ],
   "source": [
    "Data2021Fil.shape"
   ]
  },
  {
   "cell_type": "code",
   "execution_count": 79,
   "id": "25499018",
   "metadata": {},
   "outputs": [
    {
     "data": {
      "text/plain": [
       "3    6970003\n",
       "1     649956\n",
       "2      16933\n",
       "Name: CLASIFICACION_FINAL, dtype: int64"
      ]
     },
     "execution_count": 79,
     "metadata": {},
     "output_type": "execute_result"
    }
   ],
   "source": [
    "#Data2021.head\n",
    "Data2021Fil['CLASIFICACION_FINAL'].value_counts()"
   ]
  },
  {
   "cell_type": "code",
   "execution_count": 80,
   "id": "ab1be0b1",
   "metadata": {},
   "outputs": [],
   "source": [
    "Data2021Fil = Data2021Fil.drop(['CLASIFICACION_FINAL'],axis=1)"
   ]
  },
  {
   "cell_type": "code",
   "execution_count": 81,
   "id": "19a4da17",
   "metadata": {},
   "outputs": [
    {
     "data": {
      "text/plain": [
       "(7636892, 30)"
      ]
     },
     "execution_count": 81,
     "metadata": {},
     "output_type": "execute_result"
    }
   ],
   "source": [
    "Data2021Fil.shape"
   ]
  },
  {
   "cell_type": "code",
   "execution_count": 82,
   "id": "77c38e80",
   "metadata": {},
   "outputs": [
    {
     "data": {
      "text/plain": [
       "<bound method NDFrame.head of         FECHA_ACTUALIZACION ID_REGISTRO  SECTOR  ENTIDAD_UM  SEXO  \\\n",
       "5805             2021-02-01      1333b7      12          16     2   \n",
       "128471           2021-02-01      048d29      12          27     1   \n",
       "173545           2021-02-01      09bf6a       6          24     2   \n",
       "755753           2021-02-01      083415      12           7     2   \n",
       "1327158          2021-02-01      13928e      12          14     1   \n",
       "...                     ...         ...     ...         ...   ...   \n",
       "9803717          2021-09-01      d8d655       5           7     2   \n",
       "9803718          2021-09-01      8194f5       4          19     2   \n",
       "9803719          2021-09-01      6fd753       4          19     1   \n",
       "9803721          2021-09-01      6df1ac       4           9     2   \n",
       "9803724          2021-09-01      b5ae07       4          27     2   \n",
       "\n",
       "         ENTIDAD_RES  MUNICIPIO_RES  TIPO_PACIENTE FECHA_INGRESO  \\\n",
       "5805              16             66              2    2021-01-21   \n",
       "128471            27              5              1    2021-01-05   \n",
       "173545            24             13              1    2021-01-09   \n",
       "755753             7             46              2    2021-01-16   \n",
       "1327158           14             39              1    2021-01-29   \n",
       "...              ...            ...            ...           ...   \n",
       "9803717            7            101              1    2021-08-13   \n",
       "9803718           19             39              1    2021-08-31   \n",
       "9803719           19             48              1    2021-08-31   \n",
       "9803721            9              4              1    2021-08-28   \n",
       "9803724           27              4              1    2021-08-24   \n",
       "\n",
       "        FECHA_SINTOMAS  ... INMUSUPR  HIPERTENSION  OTRA_COM  CARDIOVASCULAR  \\\n",
       "5805        2021-01-17  ...        2             1         2               2   \n",
       "128471      2021-01-01  ...        2             2         2               2   \n",
       "173545      2021-01-08  ...        2             2         2               2   \n",
       "755753      2021-01-16  ...        2             1         2               2   \n",
       "1327158     2021-01-25  ...        2             2         2               2   \n",
       "...                ...  ...      ...           ...       ...             ...   \n",
       "9803717     2021-08-10  ...        2             2         2               2   \n",
       "9803718     2021-08-29  ...        2             2         2               2   \n",
       "9803719     2021-08-30  ...       98            98        98              98   \n",
       "9803721     2021-08-28  ...       98            98        98              98   \n",
       "9803724     2021-08-22  ...       98            98        98              98   \n",
       "\n",
       "         OBESIDAD  RENAL_CRONICA  TABAQUISMO  OTRO_CASO  RESULTADO_ANTIGENO  \\\n",
       "5805            1              2           2          2                  97   \n",
       "128471          1              2           2          1                  97   \n",
       "173545          2              2           2          1                  97   \n",
       "755753          2              1           2          2                  97   \n",
       "1327158         2              2           2          1                  97   \n",
       "...           ...            ...         ...        ...                 ...   \n",
       "9803717         2              2           2          2                   1   \n",
       "9803718         2              2           2          2                   1   \n",
       "9803719        98             98          98          2                   1   \n",
       "9803721        98             98          98          2                   1   \n",
       "9803724        98             98          98          2                   1   \n",
       "\n",
       "         UCI  \n",
       "5805       2  \n",
       "128471    97  \n",
       "173545    97  \n",
       "755753     2  \n",
       "1327158   97  \n",
       "...      ...  \n",
       "9803717   97  \n",
       "9803718   97  \n",
       "9803719   97  \n",
       "9803721   97  \n",
       "9803724   97  \n",
       "\n",
       "[7636892 rows x 30 columns]>"
      ]
     },
     "execution_count": 82,
     "metadata": {},
     "output_type": "execute_result"
    }
   ],
   "source": [
    "Data2021Fil.head"
   ]
  },
  {
   "cell_type": "code",
   "execution_count": 83,
   "id": "bc701ef1",
   "metadata": {},
   "outputs": [],
   "source": [
    "Data2021Fil.to_csv ('Data2021CovidMex.csv', index = False, header=True)"
   ]
  },
  {
   "cell_type": "code",
   "execution_count": 122,
   "id": "15de07d0",
   "metadata": {},
   "outputs": [],
   "source": [
    "datatmp = pd.read_csv(\"Data2020CovidMexico.csv\") "
   ]
  },
  {
   "cell_type": "code",
   "execution_count": 124,
   "id": "9b6137b8",
   "metadata": {},
   "outputs": [
    {
     "data": {
      "text/plain": [
       "<bound method NDFrame.head of          FECHA_ACTUALIZACION ID_REGISTRO  SECTOR  ENTIDAD_UM  SEXO  \\\n",
       "0                 2021-02-01      z482b8      12           9     2   \n",
       "1                 2021-02-01      z49a69      12          23     1   \n",
       "2                 2021-02-01      z24953      12           9     1   \n",
       "3                 2021-02-01      zz8e77      12           9     2   \n",
       "4                 2021-02-01      z1b0d1      12           1     1   \n",
       "...                      ...         ...     ...         ...   ...   \n",
       "30225103          2021-09-01      bb1f8b       4           9     1   \n",
       "30225104          2021-09-01      5f6d07       6           9     2   \n",
       "30225105          2021-09-01      e97148      12           9     1   \n",
       "30225106          2021-09-01      c89955       6           9     2   \n",
       "30225107          2021-09-01      657002       6           9     1   \n",
       "\n",
       "          ENTIDAD_RES  MUNICIPIO_RES  TIPO_PACIENTE FECHA_INGRESO  \\\n",
       "0                   9             12              1    2020-10-16   \n",
       "1                  23              4              2    2020-07-20   \n",
       "2                   9             10              1    2020-10-15   \n",
       "3                   9              2              1    2020-04-16   \n",
       "4                   1              3              1    2020-04-23   \n",
       "...               ...            ...            ...           ...   \n",
       "30225103            9              5              1    2020-09-09   \n",
       "30225104            9              5              2    2020-12-06   \n",
       "30225105            9              7              1    2020-12-07   \n",
       "30225106            9              9              1    2020-12-30   \n",
       "30225107            9             11              1    2020-12-31   \n",
       "\n",
       "         FECHA_SINTOMAS  ... INMUSUPR  HIPERTENSION  OTRA_COM  CARDIOVASCULAR  \\\n",
       "0            2020-10-16  ...        2             2         2               2   \n",
       "1            2020-07-17  ...        2             1         2               2   \n",
       "2            2020-10-15  ...        2             2         2               2   \n",
       "3            2020-04-10  ...        2             2         2               2   \n",
       "4            2020-04-21  ...        2             2         2               2   \n",
       "...                 ...  ...      ...           ...       ...             ...   \n",
       "30225103     2020-09-04  ...        2             2         1               2   \n",
       "30225104     2020-12-02  ...        2             2         2               2   \n",
       "30225105     2020-12-07  ...        2             2         2               2   \n",
       "30225106     2020-12-25  ...        2             2         2               2   \n",
       "30225107     2020-12-24  ...        2             2         2               2   \n",
       "\n",
       "          OBESIDAD  RENAL_CRONICA  TABAQUISMO  OTRO_CASO  RESULTADO_ANTIGENO  \\\n",
       "0                2              2           2          2                  97   \n",
       "1                1              2           2          1                  97   \n",
       "2                2              2           2          1                  97   \n",
       "3                2              2           2          2                  97   \n",
       "4                1              2           2         99                  97   \n",
       "...            ...            ...         ...        ...                 ...   \n",
       "30225103         1              2           2          1                  97   \n",
       "30225104         2              2           2          1                   1   \n",
       "30225105         2              2           2          1                   1   \n",
       "30225106         2              2           2          1                   2   \n",
       "30225107         1              2           1          1                   2   \n",
       "\n",
       "          UCI  \n",
       "0          97  \n",
       "1           1  \n",
       "2          97  \n",
       "3          97  \n",
       "4          97  \n",
       "...       ...  \n",
       "30225103   97  \n",
       "30225104    2  \n",
       "30225105   97  \n",
       "30225106   97  \n",
       "30225107   97  \n",
       "\n",
       "[30225108 rows x 30 columns]>"
      ]
     },
     "execution_count": 124,
     "metadata": {},
     "output_type": "execute_result"
    }
   ],
   "source": [
    "datatmp.head"
   ]
  },
  {
   "cell_type": "code",
   "execution_count": null,
   "id": "4d94ac93",
   "metadata": {},
   "outputs": [],
   "source": []
  }
 ],
 "metadata": {
  "kernelspec": {
   "display_name": "Python 3",
   "language": "python",
   "name": "python3"
  },
  "language_info": {
   "codemirror_mode": {
    "name": "ipython",
    "version": 3
   },
   "file_extension": ".py",
   "mimetype": "text/x-python",
   "name": "python",
   "nbconvert_exporter": "python",
   "pygments_lexer": "ipython3",
   "version": "3.8.8"
  }
 },
 "nbformat": 4,
 "nbformat_minor": 5
}
